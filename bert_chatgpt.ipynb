{
 "cells": [
  {
   "cell_type": "code",
   "execution_count": 1,
   "id": "0bfe9c17",
   "metadata": {
    "_cell_guid": "b1076dfc-b9ad-4769-8c92-a6c4dae69d19",
    "_uuid": "8f2839f25d086af736a60e9eeb907d3b93b6e0e5",
    "papermill": {
     "duration": 18.573067,
     "end_time": "2023-09-07T19:46:02.819442",
     "exception": false,
     "start_time": "2023-09-07T19:45:44.246375",
     "status": "completed"
    },
    "tags": []
   },
   "outputs": [
    {
     "name": "stderr",
     "output_type": "stream",
     "text": [
      "2023-09-07 21:50:21.131802: I tensorflow/core/platform/cpu_feature_guard.cc:193] This TensorFlow binary is optimized with oneAPI Deep Neural Network Library (oneDNN) to use the following CPU instructions in performance-critical operations:  AVX2 FMA\n",
      "To enable them in other operations, rebuild TensorFlow with the appropriate compiler flags.\n"
     ]
    }
   ],
   "source": [
    "import numpy as np\n",
    "import pandas as pd\n",
    "import seaborn as sns\n",
    "from pylab import rcParams\n",
    "import matplotlib.pyplot as plt\n",
    "from sklearn.model_selection import train_test_split\n",
    "from tqdm import tqdm\n",
    "\n",
    "from transformers import BertTokenizer, BertModel, get_linear_schedule_with_warmup, AdamW\n",
    "import torch\n",
    "\n",
    "import keras\n",
    "from keras import models,layers\n",
    "from keras.models import Sequential\n",
    "from keras.layers import Flatten, Dense, Embedding, LSTM\n",
    "from keras.preprocessing.text import Tokenizer"
   ]
  },
  {
   "cell_type": "code",
   "execution_count": 22,
   "id": "5512ed67",
   "metadata": {
    "papermill": {
     "duration": 0.039041,
     "end_time": "2023-09-07T19:46:02.868792",
     "exception": false,
     "start_time": "2023-09-07T19:46:02.829751",
     "status": "completed"
    },
    "tags": []
   },
   "outputs": [],
   "source": [
    "df = pd.read_csv(\"dataset8.csv\")"
   ]
  },
  {
   "cell_type": "code",
   "execution_count": 21,
   "id": "a784e279",
   "metadata": {
    "collapsed": true,
    "jupyter": {
     "outputs_hidden": true
    },
    "papermill": {
     "duration": 4.572438,
     "end_time": "2023-09-07T19:46:07.451456",
     "exception": false,
     "start_time": "2023-09-07T19:46:02.879018",
     "status": "completed"
    },
    "tags": []
   },
   "outputs": [
    {
     "name": "stderr",
     "output_type": "stream",
     "text": [
      "Some weights of the model checkpoint at bert-base-uncased were not used when initializing BertModel: ['cls.predictions.transform.LayerNorm.bias', 'cls.predictions.bias', 'cls.predictions.transform.LayerNorm.weight', 'cls.predictions.decoder.weight', 'cls.seq_relationship.weight', 'cls.predictions.transform.dense.bias', 'cls.predictions.transform.dense.weight', 'cls.seq_relationship.bias']\n",
      "- This IS expected if you are initializing BertModel from the checkpoint of a model trained on another task or with another architecture (e.g. initializing a BertForSequenceClassification model from a BertForPreTraining model).\n",
      "- This IS NOT expected if you are initializing BertModel from the checkpoint of a model that you expect to be exactly identical (initializing a BertForSequenceClassification model from a BertForSequenceClassification model).\n"
     ]
    },
    {
     "data": {
      "text/plain": [
       "BertModel(\n",
       "  (embeddings): BertEmbeddings(\n",
       "    (word_embeddings): Embedding(30522, 768, padding_idx=0)\n",
       "    (position_embeddings): Embedding(512, 768)\n",
       "    (token_type_embeddings): Embedding(2, 768)\n",
       "    (LayerNorm): LayerNorm((768,), eps=1e-12, elementwise_affine=True)\n",
       "    (dropout): Dropout(p=0.1, inplace=False)\n",
       "  )\n",
       "  (encoder): BertEncoder(\n",
       "    (layer): ModuleList(\n",
       "      (0): BertLayer(\n",
       "        (attention): BertAttention(\n",
       "          (self): BertSelfAttention(\n",
       "            (query): Linear(in_features=768, out_features=768, bias=True)\n",
       "            (key): Linear(in_features=768, out_features=768, bias=True)\n",
       "            (value): Linear(in_features=768, out_features=768, bias=True)\n",
       "            (dropout): Dropout(p=0.1, inplace=False)\n",
       "          )\n",
       "          (output): BertSelfOutput(\n",
       "            (dense): Linear(in_features=768, out_features=768, bias=True)\n",
       "            (LayerNorm): LayerNorm((768,), eps=1e-12, elementwise_affine=True)\n",
       "            (dropout): Dropout(p=0.1, inplace=False)\n",
       "          )\n",
       "        )\n",
       "        (intermediate): BertIntermediate(\n",
       "          (dense): Linear(in_features=768, out_features=3072, bias=True)\n",
       "          (intermediate_act_fn): GELUActivation()\n",
       "        )\n",
       "        (output): BertOutput(\n",
       "          (dense): Linear(in_features=3072, out_features=768, bias=True)\n",
       "          (LayerNorm): LayerNorm((768,), eps=1e-12, elementwise_affine=True)\n",
       "          (dropout): Dropout(p=0.1, inplace=False)\n",
       "        )\n",
       "      )\n",
       "      (1): BertLayer(\n",
       "        (attention): BertAttention(\n",
       "          (self): BertSelfAttention(\n",
       "            (query): Linear(in_features=768, out_features=768, bias=True)\n",
       "            (key): Linear(in_features=768, out_features=768, bias=True)\n",
       "            (value): Linear(in_features=768, out_features=768, bias=True)\n",
       "            (dropout): Dropout(p=0.1, inplace=False)\n",
       "          )\n",
       "          (output): BertSelfOutput(\n",
       "            (dense): Linear(in_features=768, out_features=768, bias=True)\n",
       "            (LayerNorm): LayerNorm((768,), eps=1e-12, elementwise_affine=True)\n",
       "            (dropout): Dropout(p=0.1, inplace=False)\n",
       "          )\n",
       "        )\n",
       "        (intermediate): BertIntermediate(\n",
       "          (dense): Linear(in_features=768, out_features=3072, bias=True)\n",
       "          (intermediate_act_fn): GELUActivation()\n",
       "        )\n",
       "        (output): BertOutput(\n",
       "          (dense): Linear(in_features=3072, out_features=768, bias=True)\n",
       "          (LayerNorm): LayerNorm((768,), eps=1e-12, elementwise_affine=True)\n",
       "          (dropout): Dropout(p=0.1, inplace=False)\n",
       "        )\n",
       "      )\n",
       "      (2): BertLayer(\n",
       "        (attention): BertAttention(\n",
       "          (self): BertSelfAttention(\n",
       "            (query): Linear(in_features=768, out_features=768, bias=True)\n",
       "            (key): Linear(in_features=768, out_features=768, bias=True)\n",
       "            (value): Linear(in_features=768, out_features=768, bias=True)\n",
       "            (dropout): Dropout(p=0.1, inplace=False)\n",
       "          )\n",
       "          (output): BertSelfOutput(\n",
       "            (dense): Linear(in_features=768, out_features=768, bias=True)\n",
       "            (LayerNorm): LayerNorm((768,), eps=1e-12, elementwise_affine=True)\n",
       "            (dropout): Dropout(p=0.1, inplace=False)\n",
       "          )\n",
       "        )\n",
       "        (intermediate): BertIntermediate(\n",
       "          (dense): Linear(in_features=768, out_features=3072, bias=True)\n",
       "          (intermediate_act_fn): GELUActivation()\n",
       "        )\n",
       "        (output): BertOutput(\n",
       "          (dense): Linear(in_features=3072, out_features=768, bias=True)\n",
       "          (LayerNorm): LayerNorm((768,), eps=1e-12, elementwise_affine=True)\n",
       "          (dropout): Dropout(p=0.1, inplace=False)\n",
       "        )\n",
       "      )\n",
       "      (3): BertLayer(\n",
       "        (attention): BertAttention(\n",
       "          (self): BertSelfAttention(\n",
       "            (query): Linear(in_features=768, out_features=768, bias=True)\n",
       "            (key): Linear(in_features=768, out_features=768, bias=True)\n",
       "            (value): Linear(in_features=768, out_features=768, bias=True)\n",
       "            (dropout): Dropout(p=0.1, inplace=False)\n",
       "          )\n",
       "          (output): BertSelfOutput(\n",
       "            (dense): Linear(in_features=768, out_features=768, bias=True)\n",
       "            (LayerNorm): LayerNorm((768,), eps=1e-12, elementwise_affine=True)\n",
       "            (dropout): Dropout(p=0.1, inplace=False)\n",
       "          )\n",
       "        )\n",
       "        (intermediate): BertIntermediate(\n",
       "          (dense): Linear(in_features=768, out_features=3072, bias=True)\n",
       "          (intermediate_act_fn): GELUActivation()\n",
       "        )\n",
       "        (output): BertOutput(\n",
       "          (dense): Linear(in_features=3072, out_features=768, bias=True)\n",
       "          (LayerNorm): LayerNorm((768,), eps=1e-12, elementwise_affine=True)\n",
       "          (dropout): Dropout(p=0.1, inplace=False)\n",
       "        )\n",
       "      )\n",
       "      (4): BertLayer(\n",
       "        (attention): BertAttention(\n",
       "          (self): BertSelfAttention(\n",
       "            (query): Linear(in_features=768, out_features=768, bias=True)\n",
       "            (key): Linear(in_features=768, out_features=768, bias=True)\n",
       "            (value): Linear(in_features=768, out_features=768, bias=True)\n",
       "            (dropout): Dropout(p=0.1, inplace=False)\n",
       "          )\n",
       "          (output): BertSelfOutput(\n",
       "            (dense): Linear(in_features=768, out_features=768, bias=True)\n",
       "            (LayerNorm): LayerNorm((768,), eps=1e-12, elementwise_affine=True)\n",
       "            (dropout): Dropout(p=0.1, inplace=False)\n",
       "          )\n",
       "        )\n",
       "        (intermediate): BertIntermediate(\n",
       "          (dense): Linear(in_features=768, out_features=3072, bias=True)\n",
       "          (intermediate_act_fn): GELUActivation()\n",
       "        )\n",
       "        (output): BertOutput(\n",
       "          (dense): Linear(in_features=3072, out_features=768, bias=True)\n",
       "          (LayerNorm): LayerNorm((768,), eps=1e-12, elementwise_affine=True)\n",
       "          (dropout): Dropout(p=0.1, inplace=False)\n",
       "        )\n",
       "      )\n",
       "      (5): BertLayer(\n",
       "        (attention): BertAttention(\n",
       "          (self): BertSelfAttention(\n",
       "            (query): Linear(in_features=768, out_features=768, bias=True)\n",
       "            (key): Linear(in_features=768, out_features=768, bias=True)\n",
       "            (value): Linear(in_features=768, out_features=768, bias=True)\n",
       "            (dropout): Dropout(p=0.1, inplace=False)\n",
       "          )\n",
       "          (output): BertSelfOutput(\n",
       "            (dense): Linear(in_features=768, out_features=768, bias=True)\n",
       "            (LayerNorm): LayerNorm((768,), eps=1e-12, elementwise_affine=True)\n",
       "            (dropout): Dropout(p=0.1, inplace=False)\n",
       "          )\n",
       "        )\n",
       "        (intermediate): BertIntermediate(\n",
       "          (dense): Linear(in_features=768, out_features=3072, bias=True)\n",
       "          (intermediate_act_fn): GELUActivation()\n",
       "        )\n",
       "        (output): BertOutput(\n",
       "          (dense): Linear(in_features=3072, out_features=768, bias=True)\n",
       "          (LayerNorm): LayerNorm((768,), eps=1e-12, elementwise_affine=True)\n",
       "          (dropout): Dropout(p=0.1, inplace=False)\n",
       "        )\n",
       "      )\n",
       "      (6): BertLayer(\n",
       "        (attention): BertAttention(\n",
       "          (self): BertSelfAttention(\n",
       "            (query): Linear(in_features=768, out_features=768, bias=True)\n",
       "            (key): Linear(in_features=768, out_features=768, bias=True)\n",
       "            (value): Linear(in_features=768, out_features=768, bias=True)\n",
       "            (dropout): Dropout(p=0.1, inplace=False)\n",
       "          )\n",
       "          (output): BertSelfOutput(\n",
       "            (dense): Linear(in_features=768, out_features=768, bias=True)\n",
       "            (LayerNorm): LayerNorm((768,), eps=1e-12, elementwise_affine=True)\n",
       "            (dropout): Dropout(p=0.1, inplace=False)\n",
       "          )\n",
       "        )\n",
       "        (intermediate): BertIntermediate(\n",
       "          (dense): Linear(in_features=768, out_features=3072, bias=True)\n",
       "          (intermediate_act_fn): GELUActivation()\n",
       "        )\n",
       "        (output): BertOutput(\n",
       "          (dense): Linear(in_features=3072, out_features=768, bias=True)\n",
       "          (LayerNorm): LayerNorm((768,), eps=1e-12, elementwise_affine=True)\n",
       "          (dropout): Dropout(p=0.1, inplace=False)\n",
       "        )\n",
       "      )\n",
       "      (7): BertLayer(\n",
       "        (attention): BertAttention(\n",
       "          (self): BertSelfAttention(\n",
       "            (query): Linear(in_features=768, out_features=768, bias=True)\n",
       "            (key): Linear(in_features=768, out_features=768, bias=True)\n",
       "            (value): Linear(in_features=768, out_features=768, bias=True)\n",
       "            (dropout): Dropout(p=0.1, inplace=False)\n",
       "          )\n",
       "          (output): BertSelfOutput(\n",
       "            (dense): Linear(in_features=768, out_features=768, bias=True)\n",
       "            (LayerNorm): LayerNorm((768,), eps=1e-12, elementwise_affine=True)\n",
       "            (dropout): Dropout(p=0.1, inplace=False)\n",
       "          )\n",
       "        )\n",
       "        (intermediate): BertIntermediate(\n",
       "          (dense): Linear(in_features=768, out_features=3072, bias=True)\n",
       "          (intermediate_act_fn): GELUActivation()\n",
       "        )\n",
       "        (output): BertOutput(\n",
       "          (dense): Linear(in_features=3072, out_features=768, bias=True)\n",
       "          (LayerNorm): LayerNorm((768,), eps=1e-12, elementwise_affine=True)\n",
       "          (dropout): Dropout(p=0.1, inplace=False)\n",
       "        )\n",
       "      )\n",
       "      (8): BertLayer(\n",
       "        (attention): BertAttention(\n",
       "          (self): BertSelfAttention(\n",
       "            (query): Linear(in_features=768, out_features=768, bias=True)\n",
       "            (key): Linear(in_features=768, out_features=768, bias=True)\n",
       "            (value): Linear(in_features=768, out_features=768, bias=True)\n",
       "            (dropout): Dropout(p=0.1, inplace=False)\n",
       "          )\n",
       "          (output): BertSelfOutput(\n",
       "            (dense): Linear(in_features=768, out_features=768, bias=True)\n",
       "            (LayerNorm): LayerNorm((768,), eps=1e-12, elementwise_affine=True)\n",
       "            (dropout): Dropout(p=0.1, inplace=False)\n",
       "          )\n",
       "        )\n",
       "        (intermediate): BertIntermediate(\n",
       "          (dense): Linear(in_features=768, out_features=3072, bias=True)\n",
       "          (intermediate_act_fn): GELUActivation()\n",
       "        )\n",
       "        (output): BertOutput(\n",
       "          (dense): Linear(in_features=3072, out_features=768, bias=True)\n",
       "          (LayerNorm): LayerNorm((768,), eps=1e-12, elementwise_affine=True)\n",
       "          (dropout): Dropout(p=0.1, inplace=False)\n",
       "        )\n",
       "      )\n",
       "      (9): BertLayer(\n",
       "        (attention): BertAttention(\n",
       "          (self): BertSelfAttention(\n",
       "            (query): Linear(in_features=768, out_features=768, bias=True)\n",
       "            (key): Linear(in_features=768, out_features=768, bias=True)\n",
       "            (value): Linear(in_features=768, out_features=768, bias=True)\n",
       "            (dropout): Dropout(p=0.1, inplace=False)\n",
       "          )\n",
       "          (output): BertSelfOutput(\n",
       "            (dense): Linear(in_features=768, out_features=768, bias=True)\n",
       "            (LayerNorm): LayerNorm((768,), eps=1e-12, elementwise_affine=True)\n",
       "            (dropout): Dropout(p=0.1, inplace=False)\n",
       "          )\n",
       "        )\n",
       "        (intermediate): BertIntermediate(\n",
       "          (dense): Linear(in_features=768, out_features=3072, bias=True)\n",
       "          (intermediate_act_fn): GELUActivation()\n",
       "        )\n",
       "        (output): BertOutput(\n",
       "          (dense): Linear(in_features=3072, out_features=768, bias=True)\n",
       "          (LayerNorm): LayerNorm((768,), eps=1e-12, elementwise_affine=True)\n",
       "          (dropout): Dropout(p=0.1, inplace=False)\n",
       "        )\n",
       "      )\n",
       "      (10): BertLayer(\n",
       "        (attention): BertAttention(\n",
       "          (self): BertSelfAttention(\n",
       "            (query): Linear(in_features=768, out_features=768, bias=True)\n",
       "            (key): Linear(in_features=768, out_features=768, bias=True)\n",
       "            (value): Linear(in_features=768, out_features=768, bias=True)\n",
       "            (dropout): Dropout(p=0.1, inplace=False)\n",
       "          )\n",
       "          (output): BertSelfOutput(\n",
       "            (dense): Linear(in_features=768, out_features=768, bias=True)\n",
       "            (LayerNorm): LayerNorm((768,), eps=1e-12, elementwise_affine=True)\n",
       "            (dropout): Dropout(p=0.1, inplace=False)\n",
       "          )\n",
       "        )\n",
       "        (intermediate): BertIntermediate(\n",
       "          (dense): Linear(in_features=768, out_features=3072, bias=True)\n",
       "          (intermediate_act_fn): GELUActivation()\n",
       "        )\n",
       "        (output): BertOutput(\n",
       "          (dense): Linear(in_features=3072, out_features=768, bias=True)\n",
       "          (LayerNorm): LayerNorm((768,), eps=1e-12, elementwise_affine=True)\n",
       "          (dropout): Dropout(p=0.1, inplace=False)\n",
       "        )\n",
       "      )\n",
       "      (11): BertLayer(\n",
       "        (attention): BertAttention(\n",
       "          (self): BertSelfAttention(\n",
       "            (query): Linear(in_features=768, out_features=768, bias=True)\n",
       "            (key): Linear(in_features=768, out_features=768, bias=True)\n",
       "            (value): Linear(in_features=768, out_features=768, bias=True)\n",
       "            (dropout): Dropout(p=0.1, inplace=False)\n",
       "          )\n",
       "          (output): BertSelfOutput(\n",
       "            (dense): Linear(in_features=768, out_features=768, bias=True)\n",
       "            (LayerNorm): LayerNorm((768,), eps=1e-12, elementwise_affine=True)\n",
       "            (dropout): Dropout(p=0.1, inplace=False)\n",
       "          )\n",
       "        )\n",
       "        (intermediate): BertIntermediate(\n",
       "          (dense): Linear(in_features=768, out_features=3072, bias=True)\n",
       "          (intermediate_act_fn): GELUActivation()\n",
       "        )\n",
       "        (output): BertOutput(\n",
       "          (dense): Linear(in_features=3072, out_features=768, bias=True)\n",
       "          (LayerNorm): LayerNorm((768,), eps=1e-12, elementwise_affine=True)\n",
       "          (dropout): Dropout(p=0.1, inplace=False)\n",
       "        )\n",
       "      )\n",
       "    )\n",
       "  )\n",
       "  (pooler): BertPooler(\n",
       "    (dense): Linear(in_features=768, out_features=768, bias=True)\n",
       "    (activation): Tanh()\n",
       "  )\n",
       ")"
      ]
     },
     "execution_count": 21,
     "metadata": {},
     "output_type": "execute_result"
    }
   ],
   "source": [
    "device = torch.device(\"cpu\")\n",
    "\n",
    "# Define tokenizer\n",
    "tokenizer = BertTokenizer.from_pretrained('bert-base-uncased')\n",
    "\n",
    "# Download model with pretrained weights \n",
    "model_bert = BertModel.from_pretrained('bert-base-uncased', output_hidden_states = True).to(device)\n",
    "model_bert.eval()"
   ]
  },
  {
   "cell_type": "code",
   "execution_count": 23,
   "id": "a579f366",
   "metadata": {
    "papermill": {
     "duration": 0.026614,
     "end_time": "2023-09-07T19:46:07.489098",
     "exception": false,
     "start_time": "2023-09-07T19:46:07.462484",
     "status": "completed"
    },
    "tags": []
   },
   "outputs": [],
   "source": [
    "# get embeddings for all words in sentences\n",
    "def embeddings(sentences):\n",
    "    \n",
    "    # Add the special tokens with encode plus.\n",
    "    encoding = tokenizer.encode_plus(sentences, add_special_tokens = True, truncation=True, padding=True,return_attention_mask= True, return_tensors=\"pt\") \n",
    "\n",
    "    tokens_tensor = encoding[\"input_ids\"] \n",
    "    segments_tensors = encoding[\"attention_mask\"] \n",
    "    segments_ids = encoding[\"token_type_ids\"]\n",
    "    \n",
    "    with torch.no_grad():\n",
    "\n",
    "        outputs = model_bert(tokens_tensor.to(device), segments_tensors.to(device)) #fit the vectors into the moedel\n",
    "\n",
    "    hidden_states = outputs[2] #extraction of hidden states\n",
    "    \n",
    "    \n",
    "    del outputs   #free gpu --- freeing GPU we avoid CUDA out of memory problem on the server.\n",
    "    \n",
    "\n",
    "    token_embeddings = torch.stack(hidden_states, dim=0) # torch.Size([13, 1, 73, 768])\n",
    "    \n",
    "    token_embeddings = torch.squeeze(token_embeddings, dim=1) #torch.Size([13, 73, 768])\n",
    "    \n",
    "    token_embeddings = token_embeddings.permute(1,0,2) #torch.Size([73, 13, 768])\n",
    "    \n",
    "    #Extracting CLS embedding\n",
    "    cls_emb = token_embeddings[0][-4:].mean(dim=0).detach().cpu().numpy() #Extraction of CLS embeddings\n",
    "\n",
    "    # Alternatively we store the token vectors\n",
    "    sent_token_vecs_sum = []\n",
    "\n",
    "    # For each token in the sentence...\n",
    "    for token in token_embeddings:\n",
    "        tok = token.to(\"cpu\")   #feed into a cpu\n",
    "        token.detach() #deletion of the token in GPU \n",
    "        del token  \n",
    "\n",
    "        # Sum last four layers.\n",
    "        sum_vec = torch.sum(tok[-4:], dim=0)\n",
    "\n",
    "        sent_token_vecs_sum.append(sum_vec)\n",
    "\n",
    "    b_emb = torch.stack(sent_token_vecs_sum, dim=0).mean(dim=0).detach().cpu().numpy() #Extraction of the summed embeddings\n",
    "        \n",
    "    return b_emb"
   ]
  },
  {
   "cell_type": "code",
   "execution_count": 5,
   "id": "c9da0a8b",
   "metadata": {
    "papermill": {
     "duration": 11.27278,
     "end_time": "2023-09-07T19:46:18.772972",
     "exception": false,
     "start_time": "2023-09-07T19:46:07.500192",
     "status": "completed"
    },
    "tags": []
   },
   "outputs": [
    {
     "name": "stderr",
     "output_type": "stream",
     "text": [
      "Creating prompts embeddings: 100%|██████████| 32/32 [03:48<00:00,  7.15s/it]\n",
      "Creating response embeddings: 100%|██████████| 32/32 [03:15<00:00,  6.10s/it]\n"
     ]
    }
   ],
   "source": [
    "prompts = df.prompts.to_list()\n",
    "responses = df.responses.to_list()\n",
    "\n",
    "summed_embeddings_p = []\n",
    "summed_embeddings_res = []\n",
    "\n",
    "for idx in tqdm(range(0, len(prompts)), desc =\"Creating prompts embeddings\"):\n",
    "    b_emb_p = embeddings(prompts[idx])\n",
    "    summed_embeddings_p.append(b_emb_p)\n",
    "    \n",
    "for idx in tqdm(range(0, len(responses)), desc =\"Creating response embeddings\"):\n",
    "    b_emb_r = embeddings(responses[idx])\n",
    "    summed_embeddings_res.append(b_emb_r)"
   ]
  },
  {
   "cell_type": "code",
   "execution_count": 24,
   "id": "72cfa0b0",
   "metadata": {
    "papermill": {
     "duration": 9.054384,
     "end_time": "2023-09-07T19:46:27.844780",
     "exception": false,
     "start_time": "2023-09-07T19:46:18.790396",
     "status": "completed"
    },
    "tags": []
   },
   "outputs": [
    {
     "name": "stdout",
     "output_type": "stream",
     "text": [
      "You just heard the surprising news that Adam's date has an artificial leg. You bump into him and ask him how the date went. He replies restlessly: \"Great. It was great. She is, uh, she is great, great looking, great personality, she is greatness.\" \"Oh so the date was 'greatness' all around, huh? Sounds like you have truly 'legendary' time!\"\n"
     ]
    },
    {
     "name": "stderr",
     "output_type": "stream",
     "text": [
      "Creating combined embeddings: 100%|██████████| 32/32 [03:48<00:00,  7.13s/it]\n"
     ]
    }
   ],
   "source": [
    "#  Create embeddings for prompts and responses combined\n",
    "from functools import reduce\n",
    "\n",
    "both = reduce(lambda i, j: i + [j[0] +\" \"+ j[1]], zip(prompts, responses),[])\n",
    "print(both[0])\n",
    "\n",
    "summed_embeddings_b = []\n",
    "\n",
    "for idx in tqdm(range(0, len(both)), desc =\"Creating combined embeddings\"):\n",
    "    b_emb_b = embeddings(both[idx])\n",
    "    summed_embeddings_b.append(b_emb_b)"
   ]
  },
  {
   "cell_type": "code",
   "execution_count": 46,
   "id": "491b2e7a",
   "metadata": {
    "papermill": {
     "duration": 0.032971,
     "end_time": "2023-09-07T19:46:27.898859",
     "exception": false,
     "start_time": "2023-09-07T19:46:27.865888",
     "status": "completed"
    },
    "tags": []
   },
   "outputs": [],
   "source": [
    "# The function for training and plotting the validation loss\n",
    "# We use the mean squared error (MSE) for the loss and mean absolute error (MAE) for the metrics because we are dealing with a regression problem \n",
    "\n",
    "def train(model, X_train, y_train):\n",
    "    model.compile(optimizer='adamax', loss='mse', metrics=['mae'])  \n",
    "    history = model.fit(X_train, y_train,\n",
    "                    epochs=12,\n",
    "                    batch_size=16,\n",
    "                    validation_split = 0.2,\n",
    "                    verbose=1)\n",
    "    \n",
    "    # Plot the loss\n",
    "    loss = history.history['loss']\n",
    "    val_loss = history.history['val_loss']\n",
    "\n",
    "    epochs = range(1, len(loss) + 1)\n",
    "\n",
    "    plt.plot(epochs, loss, 'bo', label='Training loss')\n",
    "    plt.plot(epochs, val_loss, 'b', label='Validation loss')\n",
    "    plt.title('Training and validation loss')\n",
    "    plt.xlabel('Epochs')\n",
    "    plt.ylabel('Loss')\n",
    "    plt.legend()\n",
    "    plt.show()\n",
    "    \n",
    "    return history"
   ]
  },
  {
   "cell_type": "code",
   "execution_count": 42,
   "id": "4363119d",
   "metadata": {
    "papermill": {
     "duration": 0.029444,
     "end_time": "2023-09-07T19:46:27.948779",
     "exception": false,
     "start_time": "2023-09-07T19:46:27.919335",
     "status": "completed"
    },
    "tags": []
   },
   "outputs": [],
   "source": [
    "labels = df.sarc_chat.to_numpy()"
   ]
  },
  {
   "cell_type": "code",
   "execution_count": 66,
   "id": "7a91d3f5",
   "metadata": {
    "papermill": {
     "duration": 0.035384,
     "end_time": "2023-09-07T19:46:28.004477",
     "exception": false,
     "start_time": "2023-09-07T19:46:27.969093",
     "status": "completed"
    },
    "tags": []
   },
   "outputs": [
    {
     "name": "stdout",
     "output_type": "stream",
     "text": [
      "(25,) (7,)\n"
     ]
    }
   ],
   "source": [
    "#arrange indices \n",
    "\n",
    "indices = np.arange(np.array(summed_embeddings_p).shape[0])\n",
    "np.random.shuffle(indices)\n",
    "summed_embeddings = np.array(summed_embeddings_p) #transform into np array\n",
    "\n",
    "embeddings_p = summed_embeddings[indices]\n",
    "labels = labels[indices]\n",
    "\n",
    "p_train, p_test, y_train, y_test = train_test_split(embeddings_p, labels, test_size=0.2, random_state=42)\n",
    "print(y_train.shape, y_test.shape)"
   ]
  },
  {
   "cell_type": "code",
   "execution_count": 69,
   "id": "d0697ca1",
   "metadata": {
    "papermill": {
     "duration": 0.257215,
     "end_time": "2023-09-07T19:46:28.282221",
     "exception": false,
     "start_time": "2023-09-07T19:46:28.025006",
     "status": "completed"
    },
    "tags": []
   },
   "outputs": [
    {
     "name": "stdout",
     "output_type": "stream",
     "text": [
      "Model: \"sequential_14\"\n",
      "_________________________________________________________________\n",
      " Layer (type)                Output Shape              Param #   \n",
      "=================================================================\n",
      " dense_42 (Dense)            (None, 8)                 6152      \n",
      "                                                                 \n",
      " dense_43 (Dense)            (None, 64)                576       \n",
      "                                                                 \n",
      " dense_44 (Dense)            (None, 1)                 65        \n",
      "                                                                 \n",
      "=================================================================\n",
      "Total params: 6,793\n",
      "Trainable params: 6,793\n",
      "Non-trainable params: 0\n",
      "_________________________________________________________________\n"
     ]
    }
   ],
   "source": [
    "# prompt model\n",
    "\n",
    "model = Sequential()\n",
    "model.add(layers.Dense(8, activation='relu', input_shape=(768,)))  #model processes batches where each sample has shape(768,).\n",
    "model.add(layers.Dense(64, activation='relu'))\n",
    "\n",
    "#model.add(layers.Dropout(0.2)) #weight regularization -- reduce overfitting\n",
    "#The core idea is that introducing noise in the output values of a layer can break up happenstance patterns that aren’t significant\n",
    "\n",
    "model.add(layers.Dense(1, activation='sigmoid'))\n",
    "model.summary()\n",
    "# The 'None' in the tensor shapes represents the batch size: the model allows batches of any size"
   ]
  },
  {
   "cell_type": "code",
   "execution_count": 70,
   "id": "6f37d7f9",
   "metadata": {
    "papermill": {
     "duration": 2.112604,
     "end_time": "2023-09-07T19:46:30.416819",
     "exception": false,
     "start_time": "2023-09-07T19:46:28.304215",
     "status": "completed"
    },
    "tags": []
   },
   "outputs": [
    {
     "name": "stdout",
     "output_type": "stream",
     "text": [
      "Epoch 1/12\n",
      "2/2 [==============================] - 1s 177ms/step - loss: 0.7101 - mae: 0.4801 - val_loss: 2.8991 - val_mae: 1.4428\n",
      "Epoch 2/12\n",
      "2/2 [==============================] - 0s 59ms/step - loss: 0.6327 - mae: 0.4509 - val_loss: 2.8049 - val_mae: 1.4238\n",
      "Epoch 3/12\n",
      "2/2 [==============================] - 0s 67ms/step - loss: 0.6116 - mae: 0.4662 - val_loss: 2.7639 - val_mae: 1.4189\n",
      "Epoch 4/12\n",
      "2/2 [==============================] - 0s 71ms/step - loss: 0.6003 - mae: 0.4728 - val_loss: 2.7324 - val_mae: 1.4135\n",
      "Epoch 5/12\n",
      "2/2 [==============================] - 0s 66ms/step - loss: 0.5939 - mae: 0.4804 - val_loss: 2.6981 - val_mae: 1.4065\n",
      "Epoch 6/12\n",
      "2/2 [==============================] - 0s 56ms/step - loss: 0.5860 - mae: 0.4856 - val_loss: 2.6629 - val_mae: 1.3992\n",
      "Epoch 7/12\n",
      "2/2 [==============================] - 0s 54ms/step - loss: 0.5776 - mae: 0.4905 - val_loss: 2.6249 - val_mae: 1.3911\n",
      "Epoch 8/12\n",
      "2/2 [==============================] - 0s 37ms/step - loss: 0.5688 - mae: 0.4956 - val_loss: 2.5841 - val_mae: 1.3822\n",
      "Epoch 9/12\n",
      "2/2 [==============================] - 0s 44ms/step - loss: 0.5608 - mae: 0.5017 - val_loss: 2.5428 - val_mae: 1.3731\n",
      "Epoch 10/12\n",
      "2/2 [==============================] - 0s 41ms/step - loss: 0.5499 - mae: 0.5051 - val_loss: 2.5012 - val_mae: 1.3636\n",
      "Epoch 11/12\n",
      "2/2 [==============================] - 0s 39ms/step - loss: 0.5433 - mae: 0.5121 - val_loss: 2.4565 - val_mae: 1.3533\n",
      "Epoch 12/12\n",
      "2/2 [==============================] - 0s 43ms/step - loss: 0.5347 - mae: 0.5176 - val_loss: 2.4172 - val_mae: 1.3441\n"
     ]
    },
    {
     "data": {
      "image/png": "[encoded data removed]",
      "text/plain": [
       "<Figure size 640x480 with 1 Axes>"
      ]
     },
     "metadata": {},
     "output_type": "display_data"
    }
   ],
   "source": [
    "history_prompt = train(model, p_train, y_train)"
   ]
  },
  {
   "cell_type": "code",
   "execution_count": 71,
   "id": "6170a9ee",
   "metadata": {
    "papermill": {
     "duration": 0.121085,
     "end_time": "2023-09-07T19:46:32.314362",
     "exception": false,
     "start_time": "2023-09-07T19:46:32.193277",
     "status": "completed"
    },
    "tags": []
   },
   "outputs": [
    {
     "name": "stdout",
     "output_type": "stream",
     "text": [
      "1/1 [==============================] - 0s 53ms/step - loss: 1.6576 - mae: 1.1014\n"
     ]
    },
    {
     "data": {
      "text/plain": [
       "[1.6575543880462646, 1.1014047861099243]"
      ]
     },
     "execution_count": 71,
     "metadata": {},
     "output_type": "execute_result"
    }
   ],
   "source": [
    "model.evaluate(p_test, y_test)"
   ]
  },
  {
   "cell_type": "markdown",
   "id": "3c721b51",
   "metadata": {
    "papermill": {
     "duration": 0.030981,
     "end_time": "2023-09-07T19:46:32.375508",
     "exception": false,
     "start_time": "2023-09-07T19:46:32.344527",
     "status": "completed"
    },
    "tags": []
   },
   "source": [
    "### responses"
   ]
  },
  {
   "cell_type": "code",
   "execution_count": 49,
   "id": "763f17a0",
   "metadata": {
    "papermill": {
     "duration": 0.043347,
     "end_time": "2023-09-07T19:46:32.449719",
     "exception": false,
     "start_time": "2023-09-07T19:46:32.406372",
     "status": "completed"
    },
    "tags": []
   },
   "outputs": [
    {
     "name": "stdout",
     "output_type": "stream",
     "text": [
      "(25,) (7,)\n"
     ]
    }
   ],
   "source": [
    "#arrange indices \n",
    "\n",
    "indices = np.arange(np.array(summed_embeddings_res).shape[0])\n",
    "np.random.shuffle(indices)\n",
    "summed_embeddings_res = np.array(summed_embeddings_res) #transform into np array\n",
    "\n",
    "embeddings_res = summed_embeddings_res[indices]\n",
    "labels = labels[indices]\n",
    "\n",
    "r_train, r_test, y_train, y_test = train_test_split(embeddings_res, labels, test_size=0.2, random_state=42)\n",
    "print(y_train.shape, y_test.shape)"
   ]
  },
  {
   "cell_type": "code",
   "execution_count": 50,
   "id": "12b53b46",
   "metadata": {
    "papermill": {
     "duration": 0.104605,
     "end_time": "2023-09-07T19:46:32.643686",
     "exception": false,
     "start_time": "2023-09-07T19:46:32.539081",
     "status": "completed"
    },
    "tags": []
   },
   "outputs": [
    {
     "name": "stdout",
     "output_type": "stream",
     "text": [
      "Model: \"sequential_8\"\n",
      "_________________________________________________________________\n",
      " Layer (type)                Output Shape              Param #   \n",
      "=================================================================\n",
      " dense_24 (Dense)            (None, 64)                49216     \n",
      "                                                                 \n",
      " dense_25 (Dense)            (None, 64)                4160      \n",
      "                                                                 \n",
      " dense_26 (Dense)            (None, 1)                 65        \n",
      "                                                                 \n",
      "=================================================================\n",
      "Total params: 53,441\n",
      "Trainable params: 53,441\n",
      "Non-trainable params: 0\n",
      "_________________________________________________________________\n"
     ]
    }
   ],
   "source": [
    "model_r = Sequential()\n",
    "model_r.add(layers.Dense(64, activation='relu', input_shape=(768,)))  #model processes batches where each sample has shape(768,).\n",
    "model_r.add(layers.Dense(64, activation='relu'))\n",
    "\n",
    "model_r.add(layers.Dense(1, activation='softmax'))\n",
    "model_r.summary()"
   ]
  },
  {
   "cell_type": "code",
   "execution_count": 51,
   "id": "6018e43a",
   "metadata": {
    "papermill": {
     "duration": 1.803138,
     "end_time": "2023-09-07T19:46:34.478123",
     "exception": false,
     "start_time": "2023-09-07T19:46:32.674985",
     "status": "completed"
    },
    "tags": []
   },
   "outputs": [
    {
     "name": "stdout",
     "output_type": "stream",
     "text": [
      "Epoch 1/12\n",
      "2/2 [==============================] - 1s 152ms/step - loss: 2.0885 - mae: 1.1219 - val_loss: 1.2086 - val_mae: 0.9143\n",
      "Epoch 2/12\n",
      "2/2 [==============================] - 0s 66ms/step - loss: 2.0885 - mae: 1.1219 - val_loss: 1.2086 - val_mae: 0.9143\n",
      "Epoch 3/12\n",
      "2/2 [==============================] - 0s 52ms/step - loss: 2.0885 - mae: 1.1219 - val_loss: 1.2086 - val_mae: 0.9143\n",
      "Epoch 4/12\n",
      "2/2 [==============================] - 0s 49ms/step - loss: 2.0885 - mae: 1.1219 - val_loss: 1.2086 - val_mae: 0.9143\n",
      "Epoch 5/12\n",
      "2/2 [==============================] - 0s 74ms/step - loss: 2.0885 - mae: 1.1219 - val_loss: 1.2086 - val_mae: 0.9143\n",
      "Epoch 6/12\n",
      "2/2 [==============================] - 0s 64ms/step - loss: 2.0885 - mae: 1.1219 - val_loss: 1.2086 - val_mae: 0.9143\n",
      "Epoch 7/12\n",
      "2/2 [==============================] - 0s 77ms/step - loss: 2.0885 - mae: 1.1219 - val_loss: 1.2086 - val_mae: 0.9143\n",
      "Epoch 8/12\n",
      "2/2 [==============================] - 0s 81ms/step - loss: 2.0885 - mae: 1.1219 - val_loss: 1.2086 - val_mae: 0.9143\n",
      "Epoch 9/12\n",
      "2/2 [==============================] - 0s 66ms/step - loss: 2.0885 - mae: 1.1219 - val_loss: 1.2086 - val_mae: 0.9143\n",
      "Epoch 10/12\n",
      "2/2 [==============================] - 0s 63ms/step - loss: 2.0885 - mae: 1.1219 - val_loss: 1.2086 - val_mae: 0.9143\n",
      "Epoch 11/12\n",
      "2/2 [==============================] - 0s 57ms/step - loss: 2.0885 - mae: 1.1219 - val_loss: 1.2086 - val_mae: 0.9143\n",
      "Epoch 12/12\n",
      "2/2 [==============================] - 0s 39ms/step - loss: 2.0885 - mae: 1.1219 - val_loss: 1.2086 - val_mae: 0.9143\n"
     ]
    },
    {
     "data": {
      "image/png": "[encoded data removed]",
      "text/plain": [
       "<Figure size 640x480 with 1 Axes>"
      ]
     },
     "metadata": {},
     "output_type": "display_data"
    }
   ],
   "source": [
    "history_res = train(model_r, r_train, y_train)"
   ]
  },
  {
   "cell_type": "code",
   "execution_count": 52,
   "id": "2dcd603e",
   "metadata": {
    "papermill": {
     "duration": 0.12075,
     "end_time": "2023-09-07T19:46:34.633604",
     "exception": false,
     "start_time": "2023-09-07T19:46:34.512854",
     "status": "completed"
    },
    "tags": []
   },
   "outputs": [
    {
     "name": "stdout",
     "output_type": "stream",
     "text": [
      "1/1 [==============================] - 0s 35ms/step - loss: 2.1697 - mae: 1.1871\n"
     ]
    },
    {
     "data": {
      "text/plain": [
       "[2.1696701049804688, 1.187084436416626]"
      ]
     },
     "execution_count": 52,
     "metadata": {},
     "output_type": "execute_result"
    }
   ],
   "source": [
    "model_r.evaluate(r_test, y_test)"
   ]
  },
  {
   "cell_type": "markdown",
   "id": "83f19adf",
   "metadata": {
    "papermill": {
     "duration": 0.03633,
     "end_time": "2023-09-07T19:46:34.708029",
     "exception": false,
     "start_time": "2023-09-07T19:46:34.671699",
     "status": "completed"
    },
    "tags": []
   },
   "source": [
    "## All texts"
   ]
  },
  {
   "cell_type": "code",
   "execution_count": 73,
   "id": "8bd66db8",
   "metadata": {
    "papermill": {
     "duration": 0.053218,
     "end_time": "2023-09-07T19:46:34.798330",
     "exception": false,
     "start_time": "2023-09-07T19:46:34.745112",
     "status": "completed"
    },
    "tags": []
   },
   "outputs": [
    {
     "name": "stdout",
     "output_type": "stream",
     "text": [
      "(25,) (7,)\n"
     ]
    }
   ],
   "source": [
    "#arrange indices \n",
    "\n",
    "indices = np.arange(np.array(summed_embeddings_b).shape[0])\n",
    "np.random.shuffle(indices)\n",
    "summed_embeddings = np.array(summed_embeddings_b) #transform into np array\n",
    "\n",
    "embeddings_b = summed_embeddings[indices]\n",
    "labels = labels[indices]\n",
    "\n",
    "b_train, b_test, y_train, y_test = train_test_split(embeddings_b, labels, test_size=0.2, random_state=42)\n",
    "\n",
    "print(y_train.shape, y_test.shape)"
   ]
  },
  {
   "cell_type": "code",
   "execution_count": 74,
   "id": "8dba29e8",
   "metadata": {
    "papermill": {
     "duration": 0.105421,
     "end_time": "2023-09-07T19:46:34.939940",
     "exception": false,
     "start_time": "2023-09-07T19:46:34.834519",
     "status": "completed"
    },
    "tags": []
   },
   "outputs": [
    {
     "name": "stdout",
     "output_type": "stream",
     "text": [
      "Model: \"sequential_15\"\n",
      "_________________________________________________________________\n",
      " Layer (type)                Output Shape              Param #   \n",
      "=================================================================\n",
      " dense_45 (Dense)            (None, 8)                 6152      \n",
      "                                                                 \n",
      " dense_46 (Dense)            (None, 64)                576       \n",
      "                                                                 \n",
      " dense_47 (Dense)            (None, 1)                 65        \n",
      "                                                                 \n",
      "=================================================================\n",
      "Total params: 6,793\n",
      "Trainable params: 6,793\n",
      "Non-trainable params: 0\n",
      "_________________________________________________________________\n"
     ]
    }
   ],
   "source": [
    "# Defining the model for both\n",
    "model_all = Sequential()\n",
    "\n",
    "\n",
    "model_all.add(layers.Dense(8, activation='relu', input_shape=(768,)))\n",
    "\n",
    "model_all.add(layers.Dense(64, activation='relu'))\n",
    "\n",
    "model_all.add(layers.Dense(1, activation='sigmoid'))\n",
    "\n",
    "#model.compile(optimizer='rmsprop', loss='mse', metrics=['mae'])#tried rmsprop, adagrad but adamax seems better\n",
    "model_all.summary()"
   ]
  },
  {
   "cell_type": "code",
   "execution_count": 75,
   "id": "bc451076",
   "metadata": {
    "papermill": {
     "duration": 1.98487,
     "end_time": "2023-09-07T19:46:36.963444",
     "exception": false,
     "start_time": "2023-09-07T19:46:34.978574",
     "status": "completed"
    },
    "tags": []
   },
   "outputs": [
    {
     "name": "stdout",
     "output_type": "stream",
     "text": [
      "Epoch 1/12\n",
      "2/2 [==============================] - 1s 175ms/step - loss: 1.2630 - mae: 0.9061 - val_loss: 0.5943 - val_mae: 0.6124\n",
      "Epoch 2/12\n",
      "2/2 [==============================] - 0s 58ms/step - loss: 1.1737 - mae: 0.9018 - val_loss: 0.6662 - val_mae: 0.6659\n",
      "Epoch 3/12\n",
      "2/2 [==============================] - 0s 64ms/step - loss: 1.1324 - mae: 0.8986 - val_loss: 0.7242 - val_mae: 0.7056\n",
      "Epoch 4/12\n",
      "2/2 [==============================] - 0s 72ms/step - loss: 1.1012 - mae: 0.8933 - val_loss: 0.7648 - val_mae: 0.7319\n",
      "Epoch 5/12\n",
      "2/2 [==============================] - 0s 69ms/step - loss: 1.0828 - mae: 0.8891 - val_loss: 0.7931 - val_mae: 0.7494\n",
      "Epoch 6/12\n",
      "2/2 [==============================] - 0s 58ms/step - loss: 1.0682 - mae: 0.8860 - val_loss: 0.8136 - val_mae: 0.7618\n",
      "Epoch 7/12\n",
      "2/2 [==============================] - 0s 72ms/step - loss: 1.0599 - mae: 0.8837 - val_loss: 0.8314 - val_mae: 0.7722\n",
      "Epoch 8/12\n",
      "2/2 [==============================] - 0s 64ms/step - loss: 1.0549 - mae: 0.8834 - val_loss: 0.8461 - val_mae: 0.7808\n",
      "Epoch 9/12\n",
      "2/2 [==============================] - 0s 86ms/step - loss: 1.0491 - mae: 0.8815 - val_loss: 0.8575 - val_mae: 0.7873\n",
      "Epoch 10/12\n",
      "2/2 [==============================] - 0s 58ms/step - loss: 1.0452 - mae: 0.8807 - val_loss: 0.8676 - val_mae: 0.7929\n",
      "Epoch 11/12\n",
      "2/2 [==============================] - 0s 42ms/step - loss: 1.0419 - mae: 0.8798 - val_loss: 0.8768 - val_mae: 0.7981\n",
      "Epoch 12/12\n",
      "2/2 [==============================] - 0s 39ms/step - loss: 1.0399 - mae: 0.8795 - val_loss: 0.8851 - val_mae: 0.8027\n"
     ]
    },
    {
     "data": {
      "image/png": "[encoded data removed]",
      "text/plain": [
       "<Figure size 640x480 with 1 Axes>"
      ]
     },
     "metadata": {},
     "output_type": "display_data"
    },
    {
     "data": {
      "text/plain": [
       "<keras.callbacks.History at 0x7f2fd66776a0>"
      ]
     },
     "execution_count": 75,
     "metadata": {},
     "output_type": "execute_result"
    }
   ],
   "source": [
    "train(model_all, b_train, y_train)"
   ]
  },
  {
   "cell_type": "code",
   "execution_count": 65,
   "id": "666a04f4",
   "metadata": {
    "papermill": {
     "duration": 0.126857,
     "end_time": "2023-09-07T19:46:37.131834",
     "exception": false,
     "start_time": "2023-09-07T19:46:37.004977",
     "status": "completed"
    },
    "tags": []
   },
   "outputs": [
    {
     "name": "stdout",
     "output_type": "stream",
     "text": [
      "1/1 [==============================] - 0s 46ms/step - loss: 1.3647 - mae: 0.9467\n"
     ]
    },
    {
     "data": {
      "text/plain": [
       "[1.3647441864013672, 0.9467436075210571]"
      ]
     },
     "execution_count": 65,
     "metadata": {},
     "output_type": "execute_result"
    }
   ],
   "source": [
    "model_all.evaluate(b_test, y_test)"
   ]
  },
  {
   "cell_type": "code",
   "execution_count": null,
   "id": "ab3ff4d3-1d5a-42a4-aacd-5b0c31f31e60",
   "metadata": {},
   "outputs": [],
   "source": []
  }
 ],
 "metadata": {
  "kernelspec": {
   "display_name": "Python 3 (ipykernel)",
   "language": "python",
   "name": "python3"
  },
  "language_info": {
   "codemirror_mode": {
    "name": "ipython",
    "version": 3
   },
   "file_extension": ".py",
   "mimetype": "text/x-python",
   "name": "python",
   "nbconvert_exporter": "python",
   "pygments_lexer": "ipython3",
   "version": "3.10.10"
  },
  "papermill": {
   "default_parameters": {},
   "duration": 59.580893,
   "end_time": "2023-09-07T19:46:40.031666",
   "environment_variables": {},
   "exception": null,
   "input_path": "__notebook__.ipynb",
   "output_path": "__notebook__.ipynb",
   "parameters": {},
   "start_time": "2023-09-07T19:45:40.450773",
   "version": "2.4.0"
  },
  "widgets": {
   "application/vnd.jupyter.widget-state+json": {
    "state": {},
    "version_major": 2,
    "version_minor": 0
   }
  }
 },
 "nbformat": 4,
 "nbformat_minor": 5
}
