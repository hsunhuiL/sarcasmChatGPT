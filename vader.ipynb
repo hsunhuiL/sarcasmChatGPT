{
 "cells": [
  {
   "cell_type": "code",
   "execution_count": null,
   "metadata": {
    "execution": {
     "iopub.execute_input": "2023-08-21T18:57:25.138887Z",
     "iopub.status.busy": "2023-08-21T18:57:25.138506Z",
     "iopub.status.idle": "2023-08-21T18:57:34.177480Z",
     "shell.execute_reply": "2023-08-21T18:57:34.175533Z",
     "shell.execute_reply.started": "2023-08-21T18:57:25.138861Z"
    }
   },
   "outputs": [],
   "source": [
    "!pip install vaderSentiment"
   ]
  },
  {
   "cell_type": "code",
   "execution_count": null,
   "metadata": {
    "_cell_guid": "b1076dfc-b9ad-4769-8c92-a6c4dae69d19",
    "_uuid": "8f2839f25d086af736a60e9eeb907d3b93b6e0e5",
    "execution": {
     "iopub.execute_input": "2023-08-21T18:57:34.181459Z",
     "iopub.status.busy": "2023-08-21T18:57:34.180678Z",
     "iopub.status.idle": "2023-08-21T18:57:34.186500Z",
     "shell.execute_reply": "2023-08-21T18:57:34.185420Z",
     "shell.execute_reply.started": "2023-08-21T18:57:34.181414Z"
    }
   },
   "outputs": [],
   "source": [
    "import pandas as pd\n",
    "from vaderSentiment.vaderSentiment import SentimentIntensityAnalyzer"
   ]
  },
  {
   "cell_type": "code",
   "execution_count": null,
   "metadata": {
    "execution": {
     "iopub.execute_input": "2023-08-21T18:57:34.187993Z",
     "iopub.status.busy": "2023-08-21T18:57:34.187684Z",
     "iopub.status.idle": "2023-08-21T18:57:34.215931Z",
     "shell.execute_reply": "2023-08-21T18:57:34.214465Z",
     "shell.execute_reply.started": "2023-08-21T18:57:34.187962Z"
    }
   },
   "outputs": [],
   "source": [
    "df = pd.read_csv(\"dataset.csv\")"
   ]
  },
  {
   "cell_type": "code",
   "execution_count": null,
   "metadata": {
    "execution": {
     "iopub.execute_input": "2023-08-21T18:57:34.220833Z",
     "iopub.status.busy": "2023-08-21T18:57:34.219194Z",
     "iopub.status.idle": "2023-08-21T18:57:34.227082Z",
     "shell.execute_reply": "2023-08-21T18:57:34.225695Z",
     "shell.execute_reply.started": "2023-08-21T18:57:34.220781Z"
    }
   },
   "outputs": [],
   "source": [
    "prompts = df.prompts.to_list()\n",
    "responses = df.responses.to_list()"
   ]
  },
  {
   "cell_type": "code",
   "execution_count": null,
   "metadata": {
    "execution": {
     "iopub.execute_input": "2023-08-21T18:57:34.229092Z",
     "iopub.status.busy": "2023-08-21T18:57:34.228204Z",
     "iopub.status.idle": "2023-08-21T18:57:34.248823Z",
     "shell.execute_reply": "2023-08-21T18:57:34.247049Z",
     "shell.execute_reply.started": "2023-08-21T18:57:34.229055Z"
    }
   },
   "outputs": [],
   "source": [
    "analyzer = SentimentIntensityAnalyzer()"
   ]
  },
  {
   "cell_type": "code",
   "execution_count": null,
   "metadata": {
    "execution": {
     "iopub.execute_input": "2023-08-21T18:57:34.250812Z",
     "iopub.status.busy": "2023-08-21T18:57:34.250447Z",
     "iopub.status.idle": "2023-08-21T18:57:34.257633Z",
     "shell.execute_reply": "2023-08-21T18:57:34.256478Z",
     "shell.execute_reply.started": "2023-08-21T18:57:34.250781Z"
    }
   },
   "outputs": [],
   "source": [
    "vs = analyzer.polarity_scores(responses[20])\n",
    "print(vs['neg'])"
   ]
  },
  {
   "cell_type": "code",
   "execution_count": null,
   "metadata": {
    "execution": {
     "iopub.execute_input": "2023-08-21T18:57:34.259173Z",
     "iopub.status.busy": "2023-08-21T18:57:34.258825Z",
     "iopub.status.idle": "2023-08-21T18:57:34.301093Z",
     "shell.execute_reply": "2023-08-21T18:57:34.299818Z",
     "shell.execute_reply.started": "2023-08-21T18:57:34.259143Z"
    }
   },
   "outputs": [],
   "source": [
    "comp_p = []\n",
    "comp_r = []\n",
    "\n",
    "for prompt in prompts:\n",
    "    vs_p = analyzer.polarity_scores(prompt)\n",
    "    comp_p.append(vs_p[\"compound\"])\n",
    "    \n",
    "for response in responses:\n",
    "    vs_r = analyzer.polarity_scores(response)\n",
    "    comp_r.append(vs_r[\"compound\"])\n",
    "\n",
    "df[\"comp_p\"] = comp_p\n",
    "df[\"comp_r\"] = comp_r"
   ]
  },
  {
   "cell_type": "code",
   "execution_count": null,
   "metadata": {
    "execution": {
     "iopub.execute_input": "2023-08-21T18:57:34.302322Z",
     "iopub.status.busy": "2023-08-21T18:57:34.302066Z",
     "iopub.status.idle": "2023-08-21T18:57:34.309443Z",
     "shell.execute_reply": "2023-08-21T18:57:34.307496Z",
     "shell.execute_reply.started": "2023-08-21T18:57:34.302299Z"
    }
   },
   "outputs": [],
   "source": [
    "from functools import reduce\n",
    "\n",
    "both = reduce(lambda i, j: i + [j[0] +\" \"+ j[1]], zip(prompts, responses),[])\n",
    "print(both[0])"
   ]
  },
  {
   "cell_type": "code",
   "execution_count": null,
   "metadata": {
    "execution": {
     "iopub.execute_input": "2023-08-21T18:57:34.310985Z",
     "iopub.status.busy": "2023-08-21T18:57:34.310641Z",
     "iopub.status.idle": "2023-08-21T18:57:34.361130Z",
     "shell.execute_reply": "2023-08-21T18:57:34.360274Z",
     "shell.execute_reply.started": "2023-08-21T18:57:34.310954Z"
    }
   },
   "outputs": [],
   "source": [
    "comp_all = []\n",
    "pos_all = []\n",
    "for text in both:\n",
    "    vs = analyzer.polarity_scores(text)\n",
    "    comp_all.append(vs[\"compound\"])\n",
    "df[\"comp_all\"] = comp_all"
   ]
  },
  {
   "cell_type": "code",
   "execution_count": null,
   "metadata": {
    "execution": {
     "iopub.execute_input": "2023-08-21T18:57:34.363782Z",
     "iopub.status.busy": "2023-08-21T18:57:34.363010Z",
     "iopub.status.idle": "2023-08-21T18:57:34.372174Z",
     "shell.execute_reply": "2023-08-21T18:57:34.370638Z",
     "shell.execute_reply.started": "2023-08-21T18:57:34.363755Z"
    }
   },
   "outputs": [],
   "source": [
    "df.to_csv(\"Dataset.csv\")"
   ]
  }
 ],
 "metadata": {
  "kernelspec": {
   "display_name": "Python 3 (ipykernel)",
   "language": "python",
   "name": "python3"
  },
  "language_info": {
   "codemirror_mode": {
    "name": "ipython",
    "version": 3
   },
   "file_extension": ".py",
   "mimetype": "text/x-python",
   "name": "python",
   "nbconvert_exporter": "python",
   "pygments_lexer": "ipython3",
   "version": "3.10.10"
  },
  "widgets": {
   "application/vnd.jupyter.widget-state+json": {
    "state": {},
    "version_major": 2,
    "version_minor": 0
   }
  }
 },
 "nbformat": 4,
 "nbformat_minor": 4
}
