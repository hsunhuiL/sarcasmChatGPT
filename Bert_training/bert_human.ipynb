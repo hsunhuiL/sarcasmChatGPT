{
 "cells": [
  {
   "cell_type": "code",
   "execution_count": 3,
   "id": "129cfc6b",
   "metadata": {
    "papermill": {
     "duration": 15.917442,
     "end_time": "2023-07-25T13:23:12.070264",
     "exception": false,
     "start_time": "2023-07-25T13:22:56.152822",
     "status": "completed"
    },
    "tags": []
   },
   "outputs": [
    {
     "name": "stderr",
     "output_type": "stream",
     "text": [
      "2023-09-07 22:24:56.320943: I tensorflow/core/platform/cpu_feature_guard.cc:193] This TensorFlow binary is optimized with oneAPI Deep Neural Network Library (oneDNN) to use the following CPU instructions in performance-critical operations:  AVX2 FMA\n",
      "To enable them in other operations, rebuild TensorFlow with the appropriate compiler flags.\n"
     ]
    }
   ],
   "source": [
    "import numpy as np\n",
    "import pandas as pd\n",
    "import seaborn as sns\n",
    "from pylab import rcParams\n",
    "import matplotlib.pyplot as plt\n",
    "from sklearn.model_selection import train_test_split\n",
    "from tqdm import tqdm\n",
    "\n",
    "from transformers import BertTokenizer, BertModel, get_linear_schedule_with_warmup, AdamW\n",
    "import torch\n",
    "\n",
    "import keras\n",
    "from keras import models,layers\n",
    "from keras.models import Sequential\n",
    "from keras.layers import Flatten, Dense, Embedding, LSTM\n",
    "from keras.preprocessing.text import Tokenizer\n",
    "#from keras_preprocessing.sequence import pad_sequences"
   ]
  },
  {
   "cell_type": "code",
   "execution_count": 4,
   "id": "f59b0caa",
   "metadata": {
    "papermill": {
     "duration": 0.055461,
     "end_time": "2023-07-25T13:23:12.135940",
     "exception": false,
     "start_time": "2023-07-25T13:23:12.080479",
     "status": "completed"
    },
    "tags": []
   },
   "outputs": [],
   "source": [
    "df = pd.read_csv(\"dataset8.csv\")"
   ]
  },
  {
   "cell_type": "code",
   "execution_count": 5,
   "id": "6bc42f7d",
   "metadata": {
    "papermill": {
     "duration": 0.02144,
     "end_time": "2023-07-25T13:23:12.168688",
     "exception": false,
     "start_time": "2023-07-25T13:23:12.147248",
     "status": "completed"
    },
    "tags": []
   },
   "outputs": [],
   "source": [
    "device = torch.device(\"cpu\")"
   ]
  },
  {
   "cell_type": "code",
   "execution_count": 6,
   "id": "08f70909",
   "metadata": {
    "papermill": {
     "duration": 4.130821,
     "end_time": "2023-07-25T13:23:16.308992",
     "exception": false,
     "start_time": "2023-07-25T13:23:12.178171",
     "status": "completed"
    },
    "tags": []
   },
   "outputs": [
    {
     "name": "stderr",
     "output_type": "stream",
     "text": [
      "Some weights of the model checkpoint at bert-base-uncased were not used when initializing BertModel: ['cls.predictions.transform.LayerNorm.weight', 'cls.seq_relationship.weight', 'cls.seq_relationship.bias', 'cls.predictions.decoder.weight', 'cls.predictions.bias', 'cls.predictions.transform.dense.weight', 'cls.predictions.transform.LayerNorm.bias', 'cls.predictions.transform.dense.bias']\n",
      "- This IS expected if you are initializing BertModel from the checkpoint of a model trained on another task or with another architecture (e.g. initializing a BertForSequenceClassification model from a BertForPreTraining model).\n",
      "- This IS NOT expected if you are initializing BertModel from the checkpoint of a model that you expect to be exactly identical (initializing a BertForSequenceClassification model from a BertForSequenceClassification model).\n"
     ]
    },
    {
     "data": {
      "text/plain": [
       "BertModel(\n",
       "  (embeddings): BertEmbeddings(\n",
       "    (word_embeddings): Embedding(30522, 768, padding_idx=0)\n",
       "    (position_embeddings): Embedding(512, 768)\n",
       "    (token_type_embeddings): Embedding(2, 768)\n",
       "    (LayerNorm): LayerNorm((768,), eps=1e-12, elementwise_affine=True)\n",
       "    (dropout): Dropout(p=0.1, inplace=False)\n",
       "  )\n",
       "  (encoder): BertEncoder(\n",
       "    (layer): ModuleList(\n",
       "      (0): BertLayer(\n",
       "        (attention): BertAttention(\n",
       "          (self): BertSelfAttention(\n",
       "            (query): Linear(in_features=768, out_features=768, bias=True)\n",
       "            (key): Linear(in_features=768, out_features=768, bias=True)\n",
       "            (value): Linear(in_features=768, out_features=768, bias=True)\n",
       "            (dropout): Dropout(p=0.1, inplace=False)\n",
       "          )\n",
       "          (output): BertSelfOutput(\n",
       "            (dense): Linear(in_features=768, out_features=768, bias=True)\n",
       "            (LayerNorm): LayerNorm((768,), eps=1e-12, elementwise_affine=True)\n",
       "            (dropout): Dropout(p=0.1, inplace=False)\n",
       "          )\n",
       "        )\n",
       "        (intermediate): BertIntermediate(\n",
       "          (dense): Linear(in_features=768, out_features=3072, bias=True)\n",
       "          (intermediate_act_fn): GELUActivation()\n",
       "        )\n",
       "        (output): BertOutput(\n",
       "          (dense): Linear(in_features=3072, out_features=768, bias=True)\n",
       "          (LayerNorm): LayerNorm((768,), eps=1e-12, elementwise_affine=True)\n",
       "          (dropout): Dropout(p=0.1, inplace=False)\n",
       "        )\n",
       "      )\n",
       "      (1): BertLayer(\n",
       "        (attention): BertAttention(\n",
       "          (self): BertSelfAttention(\n",
       "            (query): Linear(in_features=768, out_features=768, bias=True)\n",
       "            (key): Linear(in_features=768, out_features=768, bias=True)\n",
       "            (value): Linear(in_features=768, out_features=768, bias=True)\n",
       "            (dropout): Dropout(p=0.1, inplace=False)\n",
       "          )\n",
       "          (output): BertSelfOutput(\n",
       "            (dense): Linear(in_features=768, out_features=768, bias=True)\n",
       "            (LayerNorm): LayerNorm((768,), eps=1e-12, elementwise_affine=True)\n",
       "            (dropout): Dropout(p=0.1, inplace=False)\n",
       "          )\n",
       "        )\n",
       "        (intermediate): BertIntermediate(\n",
       "          (dense): Linear(in_features=768, out_features=3072, bias=True)\n",
       "          (intermediate_act_fn): GELUActivation()\n",
       "        )\n",
       "        (output): BertOutput(\n",
       "          (dense): Linear(in_features=3072, out_features=768, bias=True)\n",
       "          (LayerNorm): LayerNorm((768,), eps=1e-12, elementwise_affine=True)\n",
       "          (dropout): Dropout(p=0.1, inplace=False)\n",
       "        )\n",
       "      )\n",
       "      (2): BertLayer(\n",
       "        (attention): BertAttention(\n",
       "          (self): BertSelfAttention(\n",
       "            (query): Linear(in_features=768, out_features=768, bias=True)\n",
       "            (key): Linear(in_features=768, out_features=768, bias=True)\n",
       "            (value): Linear(in_features=768, out_features=768, bias=True)\n",
       "            (dropout): Dropout(p=0.1, inplace=False)\n",
       "          )\n",
       "          (output): BertSelfOutput(\n",
       "            (dense): Linear(in_features=768, out_features=768, bias=True)\n",
       "            (LayerNorm): LayerNorm((768,), eps=1e-12, elementwise_affine=True)\n",
       "            (dropout): Dropout(p=0.1, inplace=False)\n",
       "          )\n",
       "        )\n",
       "        (intermediate): BertIntermediate(\n",
       "          (dense): Linear(in_features=768, out_features=3072, bias=True)\n",
       "          (intermediate_act_fn): GELUActivation()\n",
       "        )\n",
       "        (output): BertOutput(\n",
       "          (dense): Linear(in_features=3072, out_features=768, bias=True)\n",
       "          (LayerNorm): LayerNorm((768,), eps=1e-12, elementwise_affine=True)\n",
       "          (dropout): Dropout(p=0.1, inplace=False)\n",
       "        )\n",
       "      )\n",
       "      (3): BertLayer(\n",
       "        (attention): BertAttention(\n",
       "          (self): BertSelfAttention(\n",
       "            (query): Linear(in_features=768, out_features=768, bias=True)\n",
       "            (key): Linear(in_features=768, out_features=768, bias=True)\n",
       "            (value): Linear(in_features=768, out_features=768, bias=True)\n",
       "            (dropout): Dropout(p=0.1, inplace=False)\n",
       "          )\n",
       "          (output): BertSelfOutput(\n",
       "            (dense): Linear(in_features=768, out_features=768, bias=True)\n",
       "            (LayerNorm): LayerNorm((768,), eps=1e-12, elementwise_affine=True)\n",
       "            (dropout): Dropout(p=0.1, inplace=False)\n",
       "          )\n",
       "        )\n",
       "        (intermediate): BertIntermediate(\n",
       "          (dense): Linear(in_features=768, out_features=3072, bias=True)\n",
       "          (intermediate_act_fn): GELUActivation()\n",
       "        )\n",
       "        (output): BertOutput(\n",
       "          (dense): Linear(in_features=3072, out_features=768, bias=True)\n",
       "          (LayerNorm): LayerNorm((768,), eps=1e-12, elementwise_affine=True)\n",
       "          (dropout): Dropout(p=0.1, inplace=False)\n",
       "        )\n",
       "      )\n",
       "      (4): BertLayer(\n",
       "        (attention): BertAttention(\n",
       "          (self): BertSelfAttention(\n",
       "            (query): Linear(in_features=768, out_features=768, bias=True)\n",
       "            (key): Linear(in_features=768, out_features=768, bias=True)\n",
       "            (value): Linear(in_features=768, out_features=768, bias=True)\n",
       "            (dropout): Dropout(p=0.1, inplace=False)\n",
       "          )\n",
       "          (output): BertSelfOutput(\n",
       "            (dense): Linear(in_features=768, out_features=768, bias=True)\n",
       "            (LayerNorm): LayerNorm((768,), eps=1e-12, elementwise_affine=True)\n",
       "            (dropout): Dropout(p=0.1, inplace=False)\n",
       "          )\n",
       "        )\n",
       "        (intermediate): BertIntermediate(\n",
       "          (dense): Linear(in_features=768, out_features=3072, bias=True)\n",
       "          (intermediate_act_fn): GELUActivation()\n",
       "        )\n",
       "        (output): BertOutput(\n",
       "          (dense): Linear(in_features=3072, out_features=768, bias=True)\n",
       "          (LayerNorm): LayerNorm((768,), eps=1e-12, elementwise_affine=True)\n",
       "          (dropout): Dropout(p=0.1, inplace=False)\n",
       "        )\n",
       "      )\n",
       "      (5): BertLayer(\n",
       "        (attention): BertAttention(\n",
       "          (self): BertSelfAttention(\n",
       "            (query): Linear(in_features=768, out_features=768, bias=True)\n",
       "            (key): Linear(in_features=768, out_features=768, bias=True)\n",
       "            (value): Linear(in_features=768, out_features=768, bias=True)\n",
       "            (dropout): Dropout(p=0.1, inplace=False)\n",
       "          )\n",
       "          (output): BertSelfOutput(\n",
       "            (dense): Linear(in_features=768, out_features=768, bias=True)\n",
       "            (LayerNorm): LayerNorm((768,), eps=1e-12, elementwise_affine=True)\n",
       "            (dropout): Dropout(p=0.1, inplace=False)\n",
       "          )\n",
       "        )\n",
       "        (intermediate): BertIntermediate(\n",
       "          (dense): Linear(in_features=768, out_features=3072, bias=True)\n",
       "          (intermediate_act_fn): GELUActivation()\n",
       "        )\n",
       "        (output): BertOutput(\n",
       "          (dense): Linear(in_features=3072, out_features=768, bias=True)\n",
       "          (LayerNorm): LayerNorm((768,), eps=1e-12, elementwise_affine=True)\n",
       "          (dropout): Dropout(p=0.1, inplace=False)\n",
       "        )\n",
       "      )\n",
       "      (6): BertLayer(\n",
       "        (attention): BertAttention(\n",
       "          (self): BertSelfAttention(\n",
       "            (query): Linear(in_features=768, out_features=768, bias=True)\n",
       "            (key): Linear(in_features=768, out_features=768, bias=True)\n",
       "            (value): Linear(in_features=768, out_features=768, bias=True)\n",
       "            (dropout): Dropout(p=0.1, inplace=False)\n",
       "          )\n",
       "          (output): BertSelfOutput(\n",
       "            (dense): Linear(in_features=768, out_features=768, bias=True)\n",
       "            (LayerNorm): LayerNorm((768,), eps=1e-12, elementwise_affine=True)\n",
       "            (dropout): Dropout(p=0.1, inplace=False)\n",
       "          )\n",
       "        )\n",
       "        (intermediate): BertIntermediate(\n",
       "          (dense): Linear(in_features=768, out_features=3072, bias=True)\n",
       "          (intermediate_act_fn): GELUActivation()\n",
       "        )\n",
       "        (output): BertOutput(\n",
       "          (dense): Linear(in_features=3072, out_features=768, bias=True)\n",
       "          (LayerNorm): LayerNorm((768,), eps=1e-12, elementwise_affine=True)\n",
       "          (dropout): Dropout(p=0.1, inplace=False)\n",
       "        )\n",
       "      )\n",
       "      (7): BertLayer(\n",
       "        (attention): BertAttention(\n",
       "          (self): BertSelfAttention(\n",
       "            (query): Linear(in_features=768, out_features=768, bias=True)\n",
       "            (key): Linear(in_features=768, out_features=768, bias=True)\n",
       "            (value): Linear(in_features=768, out_features=768, bias=True)\n",
       "            (dropout): Dropout(p=0.1, inplace=False)\n",
       "          )\n",
       "          (output): BertSelfOutput(\n",
       "            (dense): Linear(in_features=768, out_features=768, bias=True)\n",
       "            (LayerNorm): LayerNorm((768,), eps=1e-12, elementwise_affine=True)\n",
       "            (dropout): Dropout(p=0.1, inplace=False)\n",
       "          )\n",
       "        )\n",
       "        (intermediate): BertIntermediate(\n",
       "          (dense): Linear(in_features=768, out_features=3072, bias=True)\n",
       "          (intermediate_act_fn): GELUActivation()\n",
       "        )\n",
       "        (output): BertOutput(\n",
       "          (dense): Linear(in_features=3072, out_features=768, bias=True)\n",
       "          (LayerNorm): LayerNorm((768,), eps=1e-12, elementwise_affine=True)\n",
       "          (dropout): Dropout(p=0.1, inplace=False)\n",
       "        )\n",
       "      )\n",
       "      (8): BertLayer(\n",
       "        (attention): BertAttention(\n",
       "          (self): BertSelfAttention(\n",
       "            (query): Linear(in_features=768, out_features=768, bias=True)\n",
       "            (key): Linear(in_features=768, out_features=768, bias=True)\n",
       "            (value): Linear(in_features=768, out_features=768, bias=True)\n",
       "            (dropout): Dropout(p=0.1, inplace=False)\n",
       "          )\n",
       "          (output): BertSelfOutput(\n",
       "            (dense): Linear(in_features=768, out_features=768, bias=True)\n",
       "            (LayerNorm): LayerNorm((768,), eps=1e-12, elementwise_affine=True)\n",
       "            (dropout): Dropout(p=0.1, inplace=False)\n",
       "          )\n",
       "        )\n",
       "        (intermediate): BertIntermediate(\n",
       "          (dense): Linear(in_features=768, out_features=3072, bias=True)\n",
       "          (intermediate_act_fn): GELUActivation()\n",
       "        )\n",
       "        (output): BertOutput(\n",
       "          (dense): Linear(in_features=3072, out_features=768, bias=True)\n",
       "          (LayerNorm): LayerNorm((768,), eps=1e-12, elementwise_affine=True)\n",
       "          (dropout): Dropout(p=0.1, inplace=False)\n",
       "        )\n",
       "      )\n",
       "      (9): BertLayer(\n",
       "        (attention): BertAttention(\n",
       "          (self): BertSelfAttention(\n",
       "            (query): Linear(in_features=768, out_features=768, bias=True)\n",
       "            (key): Linear(in_features=768, out_features=768, bias=True)\n",
       "            (value): Linear(in_features=768, out_features=768, bias=True)\n",
       "            (dropout): Dropout(p=0.1, inplace=False)\n",
       "          )\n",
       "          (output): BertSelfOutput(\n",
       "            (dense): Linear(in_features=768, out_features=768, bias=True)\n",
       "            (LayerNorm): LayerNorm((768,), eps=1e-12, elementwise_affine=True)\n",
       "            (dropout): Dropout(p=0.1, inplace=False)\n",
       "          )\n",
       "        )\n",
       "        (intermediate): BertIntermediate(\n",
       "          (dense): Linear(in_features=768, out_features=3072, bias=True)\n",
       "          (intermediate_act_fn): GELUActivation()\n",
       "        )\n",
       "        (output): BertOutput(\n",
       "          (dense): Linear(in_features=3072, out_features=768, bias=True)\n",
       "          (LayerNorm): LayerNorm((768,), eps=1e-12, elementwise_affine=True)\n",
       "          (dropout): Dropout(p=0.1, inplace=False)\n",
       "        )\n",
       "      )\n",
       "      (10): BertLayer(\n",
       "        (attention): BertAttention(\n",
       "          (self): BertSelfAttention(\n",
       "            (query): Linear(in_features=768, out_features=768, bias=True)\n",
       "            (key): Linear(in_features=768, out_features=768, bias=True)\n",
       "            (value): Linear(in_features=768, out_features=768, bias=True)\n",
       "            (dropout): Dropout(p=0.1, inplace=False)\n",
       "          )\n",
       "          (output): BertSelfOutput(\n",
       "            (dense): Linear(in_features=768, out_features=768, bias=True)\n",
       "            (LayerNorm): LayerNorm((768,), eps=1e-12, elementwise_affine=True)\n",
       "            (dropout): Dropout(p=0.1, inplace=False)\n",
       "          )\n",
       "        )\n",
       "        (intermediate): BertIntermediate(\n",
       "          (dense): Linear(in_features=768, out_features=3072, bias=True)\n",
       "          (intermediate_act_fn): GELUActivation()\n",
       "        )\n",
       "        (output): BertOutput(\n",
       "          (dense): Linear(in_features=3072, out_features=768, bias=True)\n",
       "          (LayerNorm): LayerNorm((768,), eps=1e-12, elementwise_affine=True)\n",
       "          (dropout): Dropout(p=0.1, inplace=False)\n",
       "        )\n",
       "      )\n",
       "      (11): BertLayer(\n",
       "        (attention): BertAttention(\n",
       "          (self): BertSelfAttention(\n",
       "            (query): Linear(in_features=768, out_features=768, bias=True)\n",
       "            (key): Linear(in_features=768, out_features=768, bias=True)\n",
       "            (value): Linear(in_features=768, out_features=768, bias=True)\n",
       "            (dropout): Dropout(p=0.1, inplace=False)\n",
       "          )\n",
       "          (output): BertSelfOutput(\n",
       "            (dense): Linear(in_features=768, out_features=768, bias=True)\n",
       "            (LayerNorm): LayerNorm((768,), eps=1e-12, elementwise_affine=True)\n",
       "            (dropout): Dropout(p=0.1, inplace=False)\n",
       "          )\n",
       "        )\n",
       "        (intermediate): BertIntermediate(\n",
       "          (dense): Linear(in_features=768, out_features=3072, bias=True)\n",
       "          (intermediate_act_fn): GELUActivation()\n",
       "        )\n",
       "        (output): BertOutput(\n",
       "          (dense): Linear(in_features=3072, out_features=768, bias=True)\n",
       "          (LayerNorm): LayerNorm((768,), eps=1e-12, elementwise_affine=True)\n",
       "          (dropout): Dropout(p=0.1, inplace=False)\n",
       "        )\n",
       "      )\n",
       "    )\n",
       "  )\n",
       "  (pooler): BertPooler(\n",
       "    (dense): Linear(in_features=768, out_features=768, bias=True)\n",
       "    (activation): Tanh()\n",
       "  )\n",
       ")"
      ]
     },
     "execution_count": 6,
     "metadata": {},
     "output_type": "execute_result"
    }
   ],
   "source": [
    "# Define tokenizer\n",
    "tokenizer = BertTokenizer.from_pretrained('bert-base-uncased')\n",
    "\n",
    "# Download model with pretrained weights \n",
    "model_bert = BertModel.from_pretrained('bert-base-uncased', output_hidden_states = True).to(device)\n",
    "model_bert.eval()"
   ]
  },
  {
   "cell_type": "code",
   "execution_count": 7,
   "id": "32b8eb54",
   "metadata": {
    "papermill": {
     "duration": 0.025747,
     "end_time": "2023-07-25T13:23:16.345213",
     "exception": false,
     "start_time": "2023-07-25T13:23:16.319466",
     "status": "completed"
    },
    "tags": []
   },
   "outputs": [],
   "source": [
    "# BERT EMBEDDINGS - Function\n",
    "\n",
    "# get embeddings for all words in sentences\n",
    "def embeddings(sentences):\n",
    "    \n",
    "    # Add the special tokens with encode plus.\n",
    "    encoding = tokenizer.encode_plus(sentences, add_special_tokens = True, truncation=True, padding=True,return_attention_mask= True, return_tensors=\"pt\") \n",
    "\n",
    "    tokens_tensor = encoding[\"input_ids\"] \n",
    "    segments_tensors = encoding[\"attention_mask\"] \n",
    "    segments_ids = encoding[\"token_type_ids\"]\n",
    "    \n",
    "    with torch.no_grad():\n",
    "\n",
    "        outputs = model_bert(tokens_tensor.to(device), segments_tensors.to(device)) #fit the vectors into the moedel\n",
    "\n",
    "    hidden_states = outputs[2] #extraction of hidden states\n",
    "    \n",
    "    \n",
    "    del outputs   #free gpu --- freeing GPU we avoid CUDA out of memory problem on the server.\n",
    "    \n",
    "\n",
    "    token_embeddings = torch.stack(hidden_states, dim=0) # torch.Size([13, 1, 73, 768])\n",
    "    \n",
    "    token_embeddings = torch.squeeze(token_embeddings, dim=1) #torch.Size([13, 73, 768])\n",
    "    \n",
    "    token_embeddings = token_embeddings.permute(1,0,2) #torch.Size([73, 13, 768])\n",
    "    \n",
    "    #Extracting CLS embedding\n",
    "    cls_emb = token_embeddings[0][-4:].mean(dim=0).detach().cpu().numpy() #Extraction of CLS embeddings\n",
    "\n",
    "    # Alternatively we store the token vectors\n",
    "    sent_token_vecs_sum = []\n",
    "\n",
    "    # For each token in the sentence...\n",
    "    for token in token_embeddings:\n",
    "        tok = token.to(\"cpu\")   #feed into a cpu\n",
    "        token.detach() #deletion of the token in GPU \n",
    "        del token  \n",
    "\n",
    "        # Sum last four layers.\n",
    "        sum_vec = torch.sum(tok[-4:], dim=0)\n",
    "\n",
    "        sent_token_vecs_sum.append(sum_vec)\n",
    "\n",
    "    b_emb = torch.stack(sent_token_vecs_sum, dim=0).mean(dim=0).detach().cpu().numpy() #Extraction of the summed embeddings\n",
    "        \n",
    "    return cls_emb, b_emb"
   ]
  },
  {
   "cell_type": "markdown",
   "id": "8d436f67",
   "metadata": {
    "papermill": {
     "duration": 0.009844,
     "end_time": "2023-07-25T13:23:16.367076",
     "exception": false,
     "start_time": "2023-07-25T13:23:16.357232",
     "status": "completed"
    },
    "tags": []
   },
   "source": [
    "## Creates Embeddings"
   ]
  },
  {
   "cell_type": "code",
   "execution_count": 8,
   "id": "76a5703a",
   "metadata": {
    "papermill": {
     "duration": 11.330543,
     "end_time": "2023-07-25T13:23:27.707849",
     "exception": false,
     "start_time": "2023-07-25T13:23:16.377306",
     "status": "completed"
    },
    "tags": []
   },
   "outputs": [
    {
     "name": "stderr",
     "output_type": "stream",
     "text": [
      "Creating prompts embeddings: 100%|██████████| 32/32 [03:49<00:00,  7.16s/it]\n",
      "Creating response embeddings: 100%|██████████| 32/32 [03:15<00:00,  6.11s/it]\n"
     ]
    }
   ],
   "source": [
    "prompts = df.prompts.to_list()\n",
    "responses = df.responses.to_list()\n",
    "\n",
    "summed_embeddings_p = []\n",
    "cls_embeddings_p = []\n",
    "\n",
    "summed_embeddings_res = []\n",
    "cls_embeddings_res = []\n",
    "\n",
    "\n",
    "for idx in tqdm(range(0, len(prompts)), desc =\"Creating prompts embeddings\"):\n",
    "    cls_emb_p, b_emb_p = embeddings(prompts[idx])\n",
    "    summed_embeddings_p.append(b_emb_p)\n",
    "    cls_embeddings_p.append(cls_emb_p)\n",
    "    \n",
    "for idx in tqdm(range(0, len(responses)), desc =\"Creating response embeddings\"):\n",
    "    cls_emb_r, b_emb_r = embeddings(responses[idx])\n",
    "    summed_embeddings_res.append(b_emb_r)\n",
    "    cls_embeddings_res.append(cls_emb_r)"
   ]
  },
  {
   "cell_type": "code",
   "execution_count": 9,
   "id": "55897742",
   "metadata": {
    "papermill": {
     "duration": 9.010675,
     "end_time": "2023-07-25T13:23:36.735251",
     "exception": false,
     "start_time": "2023-07-25T13:23:27.724576",
     "status": "completed"
    },
    "tags": []
   },
   "outputs": [
    {
     "name": "stdout",
     "output_type": "stream",
     "text": [
      "You just heard the surprising news that Adam's date has an artificial leg. You bump into him and ask him how the date went. He replies restlessly: \"Great. It was great. She is, uh, she is great, great looking, great personality, she is greatness.\" \"Oh so the date was 'greatness' all around, huh? Sounds like you have truly 'legendary' time!\"\n"
     ]
    },
    {
     "name": "stderr",
     "output_type": "stream",
     "text": [
      "Creating combined embeddings: 100%|██████████| 32/32 [03:49<00:00,  7.16s/it]\n"
     ]
    }
   ],
   "source": [
    "#  Create embeddings for prompts and responses combined\n",
    "from functools import reduce\n",
    "\n",
    "both = reduce(lambda i, j: i + [j[0] +\" \"+ j[1]], zip(prompts, responses),[])\n",
    "print(both[0])\n",
    "\n",
    "summed_embeddings_b = []\n",
    "cls_embeddings_b = []\n",
    "\n",
    "for idx in tqdm(range(0, len(both)), desc =\"Creating combined embeddings\"):\n",
    "    cls_emb_b, b_emb_b = embeddings(both[idx])\n",
    "    summed_embeddings_b.append(b_emb_b)\n",
    "    cls_embeddings_b.append(cls_emb_b)"
   ]
  },
  {
   "cell_type": "code",
   "execution_count": 10,
   "id": "762b70ae",
   "metadata": {
    "execution": {
     "iopub.execute_input": "2023-07-25T13:23:37.678945Z",
     "iopub.status.busy": "2023-07-25T13:23:37.678537Z",
     "iopub.status.idle": "2023-07-25T13:23:37.683689Z",
     "shell.execute_reply": "2023-07-25T13:23:37.682586Z"
    },
    "papermill": {
     "duration": 0.028749,
     "end_time": "2023-07-25T13:23:37.686020",
     "exception": false,
     "start_time": "2023-07-25T13:23:37.657271",
     "status": "completed"
    },
    "tags": []
   },
   "outputs": [],
   "source": []
  },
  {
   "cell_type": "markdown",
   "id": "175754b0",
   "metadata": {
    "papermill": {
     "duration": 0.019426,
     "end_time": "2023-07-25T13:23:37.724851",
     "exception": false,
     "start_time": "2023-07-25T13:23:37.705425",
     "status": "completed"
    },
    "tags": []
   },
   "source": [
    "## Training"
   ]
  },
  {
   "cell_type": "code",
   "execution_count": 10,
   "id": "cd1e0bd4",
   "metadata": {
    "papermill": {
     "duration": 0.031078,
     "end_time": "2023-07-25T13:23:37.775340",
     "exception": false,
     "start_time": "2023-07-25T13:23:37.744262",
     "status": "completed"
    },
    "tags": []
   },
   "outputs": [],
   "source": [
    "# The function for training and plotting the validation loss\n",
    "# We use the mean squared error (MSE) for the loss and mean absolute error (MAE) for the metrics because we are dealing with a regression problem \n",
    "\n",
    "def train(model, X_train, y_train):\n",
    "    model.compile(optimizer='adamax', loss='mse', metrics=['mae'])  \n",
    "    history = model.fit(X_train, y_train,\n",
    "                    epochs=12,\n",
    "                    batch_size=16,\n",
    "                    validation_split=0.2,\n",
    "                    verbose=1)\n",
    "    \n",
    "    # Plot the loss\n",
    "    loss = history.history['loss']\n",
    "    val_loss = history.history['val_loss']\n",
    "\n",
    "    epochs = range(1, len(loss) + 1)\n",
    "\n",
    "    plt.plot(epochs, loss, 'bo', label='Training loss')\n",
    "    plt.plot(epochs, val_loss, 'b', label='Validation loss')\n",
    "    plt.title('Training and validation loss')\n",
    "    plt.xlabel('Epochs')\n",
    "    plt.ylabel('Loss')\n",
    "    plt.legend()\n",
    "    plt.show()\n",
    "    \n",
    "    return history"
   ]
  },
  {
   "cell_type": "markdown",
   "id": "6dffd18d",
   "metadata": {
    "papermill": {
     "duration": 0.019171,
     "end_time": "2023-07-25T13:23:37.813618",
     "exception": false,
     "start_time": "2023-07-25T13:23:37.794447",
     "status": "completed"
    },
    "tags": []
   },
   "source": [
    "### Prompts embeddings"
   ]
  },
  {
   "cell_type": "code",
   "execution_count": 11,
   "id": "eb77b501",
   "metadata": {
    "papermill": {
     "duration": 0.03089,
     "end_time": "2023-07-25T13:23:37.863754",
     "exception": false,
     "start_time": "2023-07-25T13:23:37.832864",
     "status": "completed"
    },
    "tags": []
   },
   "outputs": [
    {
     "name": "stdout",
     "output_type": "stream",
     "text": [
      "(25,) (7,)\n"
     ]
    }
   ],
   "source": [
    "#arrange indices \n",
    "\n",
    "indices = np.arange(np.array(summed_embeddings_p).shape[0])\n",
    "np.random.shuffle(indices)\n",
    "summed_embeddings, sarc = np.array(summed_embeddings_p), np.array(df.sarcasm) #transform into np array\n",
    "\n",
    "summed_embeddings_p = summed_embeddings[indices]\n",
    "sarc = sarc[indices]\n",
    "\n",
    "\n",
    "# split data\n",
    "p_train, p_test, y_train, y_test = train_test_split(summed_embeddings_p, sarc, test_size=0.2, random_state=42)\n",
    "print(y_train.shape, y_test.shape)"
   ]
  },
  {
   "cell_type": "code",
   "execution_count": 12,
   "id": "ac3db4ce",
   "metadata": {
    "papermill": {
     "duration": 0.236032,
     "end_time": "2023-07-25T13:23:38.119330",
     "exception": false,
     "start_time": "2023-07-25T13:23:37.883298",
     "status": "completed"
    },
    "tags": []
   },
   "outputs": [
    {
     "name": "stdout",
     "output_type": "stream",
     "text": [
      "Model: \"sequential\"\n",
      "_________________________________________________________________\n",
      " Layer (type)                Output Shape              Param #   \n",
      "=================================================================\n",
      " dense (Dense)               (None, 8)                 6152      \n",
      "                                                                 \n",
      " dense_1 (Dense)             (None, 64)                576       \n",
      "                                                                 \n",
      " dense_2 (Dense)             (None, 1)                 65        \n",
      "                                                                 \n",
      "=================================================================\n",
      "Total params: 6,793\n",
      "Trainable params: 6,793\n",
      "Non-trainable params: 0\n",
      "_________________________________________________________________\n"
     ]
    },
    {
     "name": "stderr",
     "output_type": "stream",
     "text": [
      "2023-09-07 22:36:30.261472: I tensorflow/core/platform/cpu_feature_guard.cc:193] This TensorFlow binary is optimized with oneAPI Deep Neural Network Library (oneDNN) to use the following CPU instructions in performance-critical operations:  AVX2 FMA\n",
      "To enable them in other operations, rebuild TensorFlow with the appropriate compiler flags.\n",
      "2023-09-07 22:36:32.484189: I tensorflow/core/common_runtime/gpu/gpu_device.cc:1613] Created device /job:localhost/replica:0/task:0/device:GPU:0 with 14489 MB memory:  -> device: 0, name: Quadro RTX 5000, pci bus id: 0000:44:00.0, compute capability: 7.5\n",
      "2023-09-07 22:36:32.490885: I tensorflow/core/common_runtime/gpu/gpu_device.cc:1613] Created device /job:localhost/replica:0/task:0/device:GPU:1 with 3584 MB memory:  -> device: 1, name: Quadro RTX 5000, pci bus id: 0000:a3:00.0, compute capability: 7.5\n",
      "2023-09-07 22:36:32.492510: I tensorflow/core/common_runtime/gpu/gpu_device.cc:1613] Created device /job:localhost/replica:0/task:0/device:GPU:2 with 9497 MB memory:  -> device: 2, name: Quadro RTX 5000, pci bus id: 0000:c4:00.0, compute capability: 7.5\n"
     ]
    }
   ],
   "source": [
    "# prompt model\n",
    "\n",
    "model = Sequential()\n",
    "model.add(layers.Dense(8, activation='relu', input_shape=(768,)))  #model processes batches where each sample has shape(768,).\n",
    "model.add(layers.Dense(64, activation='relu'))\n",
    "\n",
    "#model.add(layers.Dropout(0.2)) #weight regularization -- reduce overfitting\n",
    "#The core idea is that introducing noise in the output values of a layer can break up happenstance patterns that aren’t significant\n",
    "\n",
    "model.add(layers.Dense(1, activation='sigmoid'))\n",
    "model.summary()\n",
    "# The 'None' in the tensor shapes represents the batch size: the model allows batches of any size\n"
   ]
  },
  {
   "cell_type": "markdown",
   "id": "b8ffc270",
   "metadata": {
    "execution": {
     "iopub.execute_input": "2023-07-25T09:50:43.354528Z",
     "iopub.status.busy": "2023-07-25T09:50:43.354082Z"
    },
    "papermill": {
     "duration": 0.020899,
     "end_time": "2023-07-25T13:23:38.162100",
     "exception": false,
     "start_time": "2023-07-25T13:23:38.141201",
     "status": "completed"
    },
    "tags": []
   },
   "source": []
  },
  {
   "cell_type": "code",
   "execution_count": 13,
   "id": "d86ec73a",
   "metadata": {
    "papermill": {
     "duration": 2.468125,
     "end_time": "2023-07-25T13:23:40.651873",
     "exception": false,
     "start_time": "2023-07-25T13:23:38.183748",
     "status": "completed"
    },
    "tags": []
   },
   "outputs": [
    {
     "name": "stdout",
     "output_type": "stream",
     "text": [
      "Epoch 1/12\n"
     ]
    },
    {
     "name": "stderr",
     "output_type": "stream",
     "text": [
      "2023-09-07 22:36:55.937884: I tensorflow/compiler/xla/service/service.cc:173] XLA service 0x55d4b8592b00 initialized for platform CUDA (this does not guarantee that XLA will be used). Devices:\n",
      "2023-09-07 22:36:55.937956: I tensorflow/compiler/xla/service/service.cc:181]   StreamExecutor device (0): Quadro RTX 5000, Compute Capability 7.5\n",
      "2023-09-07 22:36:55.937961: I tensorflow/compiler/xla/service/service.cc:181]   StreamExecutor device (1): Quadro RTX 5000, Compute Capability 7.5\n",
      "2023-09-07 22:36:55.937964: I tensorflow/compiler/xla/service/service.cc:181]   StreamExecutor device (2): Quadro RTX 5000, Compute Capability 7.5\n",
      "2023-09-07 22:36:55.956798: I tensorflow/compiler/mlir/tensorflow/utils/dump_mlir_util.cc:268] disabling MLIR crash reproducer, set env var `MLIR_CRASH_REPRODUCER_DIRECTORY` to enable.\n",
      "2023-09-07 22:36:56.082493: I tensorflow/tsl/platform/default/subprocess.cc:304] Start cannot spawn child process: No such file or directory\n",
      "2023-09-07 22:36:56.149045: I tensorflow/compiler/jit/xla_compilation_cache.cc:477] Compiled cluster using XLA!  This line is logged at most once for the lifetime of the process.\n"
     ]
    },
    {
     "name": "stdout",
     "output_type": "stream",
     "text": [
      "2/2 [==============================] - 2s 205ms/step - loss: 0.8061 - mae: 0.7088 - val_loss: 0.6860 - val_mae: 0.5474\n",
      "Epoch 2/12\n",
      "2/2 [==============================] - 0s 72ms/step - loss: 0.6934 - mae: 0.6371 - val_loss: 0.6106 - val_mae: 0.4827\n",
      "Epoch 3/12\n",
      "2/2 [==============================] - 0s 45ms/step - loss: 0.6237 - mae: 0.5932 - val_loss: 0.5766 - val_mae: 0.4503\n",
      "Epoch 4/12\n",
      "2/2 [==============================] - 0s 40ms/step - loss: 0.5847 - mae: 0.5691 - val_loss: 0.5633 - val_mae: 0.4444\n",
      "Epoch 5/12\n",
      "2/2 [==============================] - 0s 43ms/step - loss: 0.5650 - mae: 0.5580 - val_loss: 0.5599 - val_mae: 0.4434\n",
      "Epoch 6/12\n",
      "2/2 [==============================] - 0s 56ms/step - loss: 0.5627 - mae: 0.5561 - val_loss: 0.5587 - val_mae: 0.4432\n",
      "Epoch 7/12\n",
      "2/2 [==============================] - 0s 41ms/step - loss: 0.5617 - mae: 0.5563 - val_loss: 0.5576 - val_mae: 0.4429\n",
      "Epoch 8/12\n",
      "2/2 [==============================] - 0s 37ms/step - loss: 0.5605 - mae: 0.5560 - val_loss: 0.5565 - val_mae: 0.4427\n",
      "Epoch 9/12\n",
      "2/2 [==============================] - 0s 52ms/step - loss: 0.5595 - mae: 0.5557 - val_loss: 0.5553 - val_mae: 0.4424\n",
      "Epoch 10/12\n",
      "2/2 [==============================] - 0s 48ms/step - loss: 0.5581 - mae: 0.5550 - val_loss: 0.5542 - val_mae: 0.4421\n",
      "Epoch 11/12\n",
      "2/2 [==============================] - 0s 53ms/step - loss: 0.5568 - mae: 0.5542 - val_loss: 0.5530 - val_mae: 0.4419\n",
      "Epoch 12/12\n",
      "2/2 [==============================] - 0s 50ms/step - loss: 0.5554 - mae: 0.5534 - val_loss: 0.5518 - val_mae: 0.4416\n"
     ]
    },
    {
     "data": {
      "image/png": "[encoded data removed]",
      "text/plain": [
       "<Figure size 640x480 with 1 Axes>"
      ]
     },
     "metadata": {},
     "output_type": "display_data"
    }
   ],
   "source": [
    "history_prompt = train(model, p_train, y_train)"
   ]
  },
  {
   "cell_type": "code",
   "execution_count": 15,
   "id": "b754b37f",
   "metadata": {
    "papermill": {
     "duration": 0.115762,
     "end_time": "2023-07-25T13:23:40.795278",
     "exception": false,
     "start_time": "2023-07-25T13:23:40.679516",
     "status": "completed"
    },
    "tags": []
   },
   "outputs": [
    {
     "name": "stdout",
     "output_type": "stream",
     "text": [
      "1/1 [==============================] - 0s 64ms/step - loss: 0.8186 - mae: 0.6586\n"
     ]
    },
    {
     "data": {
      "text/plain": [
       "[0.8186175227165222, 0.6586325764656067]"
      ]
     },
     "execution_count": 15,
     "metadata": {},
     "output_type": "execute_result"
    }
   ],
   "source": [
    "model.evaluate(p_test, y_test)"
   ]
  },
  {
   "cell_type": "markdown",
   "id": "d80b838b",
   "metadata": {
    "papermill": {
     "duration": 0.026997,
     "end_time": "2023-07-25T13:23:40.850007",
     "exception": false,
     "start_time": "2023-07-25T13:23:40.823010",
     "status": "completed"
    },
    "tags": []
   },
   "source": [
    "### Training with Responses Embeddings"
   ]
  },
  {
   "cell_type": "code",
   "execution_count": 16,
   "id": "0ca20212",
   "metadata": {
    "papermill": {
     "duration": 0.039723,
     "end_time": "2023-07-25T13:23:40.916877",
     "exception": false,
     "start_time": "2023-07-25T13:23:40.877154",
     "status": "completed"
    },
    "tags": []
   },
   "outputs": [
    {
     "name": "stdout",
     "output_type": "stream",
     "text": [
      "(25,) (7,)\n"
     ]
    }
   ],
   "source": [
    "#responses -- sarcasm\n",
    "\n",
    "indices = np.arange(np.array(summed_embeddings_res).shape[0])\n",
    "np.random.shuffle(indices)\n",
    "summed_embeddings_r, sarc = np.array(summed_embeddings_res), np.array(df.sarcasm) #transform into np array\n",
    "\n",
    "summed_embeddings_r = summed_embeddings_r[indices]\n",
    "sarc = sarc[indices]\n",
    "\n",
    "# split for train and validation data\n",
    "r_train, r_test, y_train, y_test = train_test_split(summed_embeddings_r, sarc, test_size=0.2, random_state=42)\n",
    "print(y_train.shape, y_test.shape)"
   ]
  },
  {
   "cell_type": "code",
   "execution_count": 17,
   "id": "d132ff9e",
   "metadata": {
    "papermill": {
     "duration": 0.094631,
     "end_time": "2023-07-25T13:23:41.038616",
     "exception": false,
     "start_time": "2023-07-25T13:23:40.943985",
     "status": "completed"
    },
    "tags": []
   },
   "outputs": [
    {
     "name": "stdout",
     "output_type": "stream",
     "text": [
      "Model: \"sequential_1\"\n",
      "_________________________________________________________________\n",
      " Layer (type)                Output Shape              Param #   \n",
      "=================================================================\n",
      " dense_3 (Dense)             (None, 8)                 6152      \n",
      "                                                                 \n",
      " dense_4 (Dense)             (None, 64)                576       \n",
      "                                                                 \n",
      " dense_5 (Dense)             (None, 1)                 65        \n",
      "                                                                 \n",
      "=================================================================\n",
      "Total params: 6,793\n",
      "Trainable params: 6,793\n",
      "Non-trainable params: 0\n",
      "_________________________________________________________________\n"
     ]
    }
   ],
   "source": [
    "# Defining the model for responses\n",
    "model2 = Sequential()\n",
    "\n",
    "model2.add(layers.Dense(8, activation='relu', input_shape=(768,)))\n",
    "model2.add(layers.Dense(64, activation='relu'))\n",
    "#model2.add(layers.Dropout(0.2))\n",
    "\n",
    "model2.add(layers.Dense(1, activation='sigmoid'))\n",
    "\n",
    "#model.compile(optimizer='rmsprop', loss='mse', metrics=['mae'])#tried rmsprop, adagrad but adamax seems better\n",
    "model2.summary()"
   ]
  },
  {
   "cell_type": "code",
   "execution_count": 18,
   "id": "8889598a",
   "metadata": {
    "papermill": {
     "duration": 2.369444,
     "end_time": "2023-07-25T13:23:43.437044",
     "exception": false,
     "start_time": "2023-07-25T13:23:41.067600",
     "status": "completed"
    },
    "tags": []
   },
   "outputs": [
    {
     "name": "stdout",
     "output_type": "stream",
     "text": [
      "Epoch 1/12\n",
      "2/2 [==============================] - 1s 146ms/step - loss: 0.6583 - mae: 0.6081 - val_loss: 0.1324 - val_mae: 0.2958\n",
      "Epoch 2/12\n",
      "2/2 [==============================] - 0s 84ms/step - loss: 0.5908 - mae: 0.5763 - val_loss: 0.1020 - val_mae: 0.2722\n",
      "Epoch 3/12\n",
      "2/2 [==============================] - 0s 54ms/step - loss: 0.5441 - mae: 0.5688 - val_loss: 0.0828 - val_mae: 0.2624\n",
      "Epoch 4/12\n",
      "2/2 [==============================] - 0s 46ms/step - loss: 0.5051 - mae: 0.5534 - val_loss: 0.0721 - val_mae: 0.2554\n",
      "Epoch 5/12\n",
      "2/2 [==============================] - 0s 39ms/step - loss: 0.4742 - mae: 0.5408 - val_loss: 0.0666 - val_mae: 0.2499\n",
      "Epoch 6/12\n",
      "2/2 [==============================] - 0s 46ms/step - loss: 0.4566 - mae: 0.5394 - val_loss: 0.0642 - val_mae: 0.2453\n",
      "Epoch 7/12\n",
      "2/2 [==============================] - 0s 54ms/step - loss: 0.4374 - mae: 0.5313 - val_loss: 0.0638 - val_mae: 0.2422\n",
      "Epoch 8/12\n",
      "2/2 [==============================] - 0s 57ms/step - loss: 0.4271 - mae: 0.5317 - val_loss: 0.0641 - val_mae: 0.2392\n",
      "Epoch 9/12\n",
      "2/2 [==============================] - 0s 55ms/step - loss: 0.4210 - mae: 0.5334 - val_loss: 0.0649 - val_mae: 0.2368\n",
      "Epoch 10/12\n",
      "2/2 [==============================] - 0s 82ms/step - loss: 0.4149 - mae: 0.5337 - val_loss: 0.0658 - val_mae: 0.2351\n",
      "Epoch 11/12\n",
      "2/2 [==============================] - 0s 50ms/step - loss: 0.4104 - mae: 0.5339 - val_loss: 0.0667 - val_mae: 0.2338\n",
      "Epoch 12/12\n",
      "2/2 [==============================] - 0s 51ms/step - loss: 0.4073 - mae: 0.5340 - val_loss: 0.0675 - val_mae: 0.2327\n"
     ]
    },
    {
     "data": {
      "image/png": "[encoded data removed]",
      "text/plain": [
       "<Figure size 640x480 with 1 Axes>"
      ]
     },
     "metadata": {},
     "output_type": "display_data"
    }
   ],
   "source": [
    "history_response = train(model2, r_train, y_train)"
   ]
  },
  {
   "cell_type": "code",
   "execution_count": 20,
   "id": "5fde8f06",
   "metadata": {
    "papermill": {
     "duration": 0.114963,
     "end_time": "2023-07-25T13:23:43.586255",
     "exception": false,
     "start_time": "2023-07-25T13:23:43.471292",
     "status": "completed"
    },
    "tags": []
   },
   "outputs": [
    {
     "name": "stdout",
     "output_type": "stream",
     "text": [
      "1/1 [==============================] - 0s 38ms/step - loss: 0.4890 - mae: 0.5068\n"
     ]
    },
    {
     "data": {
      "text/plain": [
       "[0.4889867603778839, 0.506750226020813]"
      ]
     },
     "execution_count": 20,
     "metadata": {},
     "output_type": "execute_result"
    }
   ],
   "source": [
    "model2.evaluate(r_test, y_test)"
   ]
  },
  {
   "cell_type": "code",
   "execution_count": 21,
   "id": "e424fb2d",
   "metadata": {
    "papermill": {
     "duration": 0.046139,
     "end_time": "2023-07-25T13:23:43.666884",
     "exception": false,
     "start_time": "2023-07-25T13:23:43.620745",
     "status": "completed"
    },
    "tags": []
   },
   "outputs": [
    {
     "name": "stdout",
     "output_type": "stream",
     "text": [
      "(25,) (7,)\n"
     ]
    }
   ],
   "source": [
    "# combined -- sarcasm\n",
    "# combined emmbeddings -- sarc\n",
    "indices = np.arange(np.array(summed_embeddings_b).shape[0])\n",
    "np.random.shuffle(indices)\n",
    "summed_embeddings_both, sarc = np.array(summed_embeddings_b), np.array(df.sarcasm) #transform into np array\n",
    "\n",
    "sum_embeddings_both = summed_embeddings_both[indices]\n",
    "sarc = sarc[indices]\n",
    "\n",
    "# split for train and validation data\n",
    "b_train, b_test, y_train, y_test = train_test_split(sum_embeddings_both, sarc, test_size=0.2, random_state=42)\n",
    "\n",
    "print(y_train.shape, y_test.shape)"
   ]
  },
  {
   "cell_type": "code",
   "execution_count": 22,
   "id": "f5f39a95",
   "metadata": {
    "papermill": {
     "duration": 0.102603,
     "end_time": "2023-07-25T13:23:43.803837",
     "exception": false,
     "start_time": "2023-07-25T13:23:43.701234",
     "status": "completed"
    },
    "tags": []
   },
   "outputs": [
    {
     "name": "stdout",
     "output_type": "stream",
     "text": [
      "Model: \"sequential_2\"\n",
      "_________________________________________________________________\n",
      " Layer (type)                Output Shape              Param #   \n",
      "=================================================================\n",
      " dense_6 (Dense)             (None, 8)                 6152      \n",
      "                                                                 \n",
      " dense_7 (Dense)             (None, 64)                576       \n",
      "                                                                 \n",
      " dense_8 (Dense)             (None, 1)                 65        \n",
      "                                                                 \n",
      "=================================================================\n",
      "Total params: 6,793\n",
      "Trainable params: 6,793\n",
      "Non-trainable params: 0\n",
      "_________________________________________________________________\n"
     ]
    }
   ],
   "source": [
    "# Defining the model for both\n",
    "model3 = Sequential()\n",
    "\n",
    "\n",
    "model3.add(layers.Dense(8, activation='relu', input_shape=(768,)))\n",
    "\n",
    "model3.add(layers.Dense(64, activation='relu'))\n",
    "#model3.add(LSTM(8)) #input dim = 2\n",
    "\n",
    "model3.add(layers.Dense(1, activation='sigmoid'))\n",
    "\n",
    "#model.compile(optimizer='rmsprop', loss='mse', metrics=['mae'])#tried rmsprop, adagrad but adamax seems better\n",
    "model3.summary()"
   ]
  },
  {
   "cell_type": "code",
   "execution_count": 23,
   "id": "3b429f1e",
   "metadata": {
    "papermill": {
     "duration": 1.974622,
     "end_time": "2023-07-25T13:23:45.814470",
     "exception": false,
     "start_time": "2023-07-25T13:23:43.839848",
     "status": "completed"
    },
    "tags": []
   },
   "outputs": [
    {
     "name": "stdout",
     "output_type": "stream",
     "text": [
      "Epoch 1/12\n",
      "2/2 [==============================] - 1s 174ms/step - loss: 0.6396 - mae: 0.5826 - val_loss: 1.7523 - val_mae: 1.1433\n",
      "Epoch 2/12\n",
      "2/2 [==============================] - 0s 57ms/step - loss: 0.5041 - mae: 0.4848 - val_loss: 1.5683 - val_mae: 1.0644\n",
      "Epoch 3/12\n",
      "2/2 [==============================] - 0s 59ms/step - loss: 0.4388 - mae: 0.4465 - val_loss: 1.4533 - val_mae: 1.0134\n",
      "Epoch 4/12\n",
      "2/2 [==============================] - 0s 42ms/step - loss: 0.4047 - mae: 0.4285 - val_loss: 1.3515 - val_mae: 0.9674\n",
      "Epoch 5/12\n",
      "2/2 [==============================] - 0s 42ms/step - loss: 0.3760 - mae: 0.4182 - val_loss: 1.2701 - val_mae: 0.9261\n",
      "Epoch 6/12\n",
      "2/2 [==============================] - 0s 40ms/step - loss: 0.3590 - mae: 0.4136 - val_loss: 1.2045 - val_mae: 0.8913\n",
      "Epoch 7/12\n",
      "2/2 [==============================] - 0s 50ms/step - loss: 0.3442 - mae: 0.4093 - val_loss: 1.1521 - val_mae: 0.8626\n",
      "Epoch 8/12\n",
      "2/2 [==============================] - 0s 44ms/step - loss: 0.3313 - mae: 0.4032 - val_loss: 1.1074 - val_mae: 0.8368\n",
      "Epoch 9/12\n",
      "2/2 [==============================] - 0s 50ms/step - loss: 0.3230 - mae: 0.4017 - val_loss: 1.0662 - val_mae: 0.8118\n",
      "Epoch 10/12\n",
      "2/2 [==============================] - 0s 43ms/step - loss: 0.3145 - mae: 0.4012 - val_loss: 1.0294 - val_mae: 0.7886\n",
      "Epoch 11/12\n",
      "2/2 [==============================] - 0s 38ms/step - loss: 0.3116 - mae: 0.4040 - val_loss: 0.9983 - val_mae: 0.7683\n",
      "Epoch 12/12\n",
      "2/2 [==============================] - 0s 39ms/step - loss: 0.3048 - mae: 0.4015 - val_loss: 0.9750 - val_mae: 0.7527\n"
     ]
    },
    {
     "data": {
      "image/png": "[encoded data removed]",
      "text/plain": [
       "<Figure size 640x480 with 1 Axes>"
      ]
     },
     "metadata": {},
     "output_type": "display_data"
    }
   ],
   "source": [
    "history_both = train(model3, b_train, y_train)"
   ]
  },
  {
   "cell_type": "code",
   "execution_count": 24,
   "id": "8a146f25",
   "metadata": {
    "papermill": {
     "duration": 0.122336,
     "end_time": "2023-07-25T13:23:45.978039",
     "exception": false,
     "start_time": "2023-07-25T13:23:45.855703",
     "status": "completed"
    },
    "tags": []
   },
   "outputs": [
    {
     "name": "stdout",
     "output_type": "stream",
     "text": [
      "1/1 [==============================] - 0s 28ms/step - loss: 0.2584 - mae: 0.4802\n"
     ]
    },
    {
     "data": {
      "text/plain": [
       "[0.258404016494751, 0.48019498586654663]"
      ]
     },
     "execution_count": 24,
     "metadata": {},
     "output_type": "execute_result"
    }
   ],
   "source": [
    "model3.evaluate(b_test, y_test)"
   ]
  },
  {
   "cell_type": "code",
   "execution_count": null,
   "id": "864d2ce5-f3cc-465b-b059-7e3f0fc46d11",
   "metadata": {},
   "outputs": [],
   "source": []
  }
 ],
 "metadata": {
  "kernelspec": {
   "display_name": "Python 3 (ipykernel)",
   "language": "python",
   "name": "python3"
  },
  "language_info": {
   "codemirror_mode": {
    "name": "ipython",
    "version": 3
   },
   "file_extension": ".py",
   "mimetype": "text/x-python",
   "name": "python",
   "nbconvert_exporter": "python",
   "pygments_lexer": "ipython3",
   "version": "3.10.10"
  },
  "papermill": {
   "default_parameters": {},
   "duration": 63.701101,
   "end_time": "2023-07-25T13:23:48.909451",
   "environment_variables": {},
   "exception": null,
   "input_path": "__notebook__.ipynb",
   "output_path": "__notebook__.ipynb",
   "parameters": {},
   "start_time": "2023-07-25T13:22:45.208350",
   "version": "2.4.0"
  },
  "widgets": {
   "application/vnd.jupyter.widget-state+json": {
    "state": {},
    "version_major": 2,
    "version_minor": 0
   }
  }
 },
 "nbformat": 4,
 "nbformat_minor": 5
}
